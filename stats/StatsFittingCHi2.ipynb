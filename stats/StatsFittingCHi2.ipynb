{
 "cells": [
  {
   "cell_type": "markdown",
   "metadata": {},
   "source": [
    "# Given an Arb. Function Fit, obtian parameters, Check $Chi^2$"
   ]
  },
  {
   "cell_type": "code",
   "execution_count": 3,
   "metadata": {},
   "outputs": [],
   "source": [
    "%matplotlib inline\n",
    "import numpy as np\n",
    "import matplotlib.pyplot as plt\n",
    "import scipy.special as sp\n",
    "import scipy.optimize\n",
    "import scipy.stats as stat"
   ]
  },
  {
   "cell_type": "markdown",
   "metadata": {},
   "source": [
    "# Define an Arb Function \n",
    "> Lorentzian Function is a known one, so we'll use it "
   ]
  },
  {
   "cell_type": "code",
   "execution_count": 5,
   "metadata": {},
   "outputs": [],
   "source": [
    "# Define our model fucntion \n",
    "#   how about a Lorentzian function? If you don't know what it is: no problem. It is a \"bell_curve\" function that's\n",
    "#   different from a Gaussian one.\n",
    "def Lorenfunc(x, A,B): \n",
    "    ''' f(x) = A/(B+x^2)'''\n",
    "    return A/(B+x*x)"
   ]
  },
  {
   "cell_type": "markdown",
   "metadata": {},
   "source": [
    "# Generate Arb Data"
   ]
  },
  {
   "cell_type": "code",
   "execution_count": 6,
   "metadata": {},
   "outputs": [],
   "source": [
    "#Define the number of data points (would be values we found experimentally)\n",
    "n_data = 10\n",
    "\n",
    "#Linspace generates an array of n_data evenly spaced values from -10 to 10 \n",
    "#np.linspace(start,stop, #of data points)\n",
    "xdata = np.linspace(-10,10,n_data)\n",
    "# between (-10,10) generate 10 evenly spaced values"
   ]
  },
  {
   "cell_type": "markdown",
   "metadata": {},
   "source": [
    "# Pass the data into our function "
   ]
  },
  {
   "cell_type": "code",
   "execution_count": 19,
   "metadata": {},
   "outputs": [],
   "source": [
    "# We are assigning (A,B) =(10,4)\n",
    "#   Presumably these values would be the values we meausered in the lab \n",
    "#   with some degree of error \n",
    "nominaly = Lorenfunc(xdata, 10, 4)\n",
    "#        \"theoretical line shape\""
   ]
  },
  {
   "cell_type": "code",
   "execution_count": 20,
   "metadata": {},
   "outputs": [
    {
     "data": {
      "text/plain": [
       "[<matplotlib.lines.Line2D at 0x195201c7430>]"
      ]
     },
     "execution_count": 20,
     "metadata": {},
     "output_type": "execute_result"
    },
    {
     "data": {
      "image/png": "[encoded data removed]",
      "text/plain": [
       "<Figure size 432x288 with 1 Axes>"
      ]
     },
     "metadata": {
      "needs_background": "light"
     },
     "output_type": "display_data"
    }
   ],
   "source": [
    "# just to see what it looks like, Change (A,B) to see what the graph can change into\n",
    "\n",
    "plt.plot(xdata, nominaly)"
   ]
  },
  {
   "cell_type": "markdown",
   "metadata": {},
   "source": [
    "# Include some Error\n",
    "> We would normall assign error in lab "
   ]
  },
  {
   "cell_type": "code",
   "execution_count": 62,
   "metadata": {},
   "outputs": [],
   "source": [
    "# Assigned error from measuring, each meaused value has this error\n",
    "noise_std = 0.1"
   ]
  },
  {
   "cell_type": "code",
   "execution_count": 66,
   "metadata": {},
   "outputs": [
    {
     "name": "stdout",
     "output_type": "stream",
     "text": [
      "The error associated with each meausred value: \n",
      "[0.1 0.1 0.1 0.1 0.1 0.1 0.1 0.1 0.1 0.1]\n"
     ]
    }
   ],
   "source": [
    "#fill a n_data value sized array with the standard deviation of our noise\n",
    "error= noise_std*np.ones(n_data)\n",
    "print(\"The error associated with each meausred value: \")\n",
    "print(error)"
   ]
  },
  {
   "cell_type": "markdown",
   "metadata": {},
   "source": [
    "# Take our line `nominaly` and make it more realistic: Add Noise "
   ]
  },
  {
   "cell_type": "code",
   "execution_count": 63,
   "metadata": {},
   "outputs": [
    {
     "name": "stdout",
     "output_type": "stream",
     "text": [
      "Every time this block is run the .random.randn will give a new array for Noise array.\n",
      " See this number changes: [ 0.63787412 -2.62956475  0.00826801]\n"
     ]
    }
   ],
   "source": [
    "# An array of all our std(errors) per data point \n",
    "#   random.randn is a specific function that will likely not be used again\n",
    "#   returns values from he \"Standard Normal Distribution\"\n",
    "#   Argument gives dimension, this will be an array of length(n_data)\n",
    "\n",
    "\n",
    "noise = noise_std*np.random.randn(n_data)\n",
    "\n",
    "\n",
    "print(\"Every time this block is run the .random.randn will give a new array for Noise array.\")\n",
    "print(f' See this number changes: {np.random.randn(3)}')"
   ]
  },
  {
   "cell_type": "code",
   "execution_count": 64,
   "metadata": {},
   "outputs": [],
   "source": [
    "noisyline= noise + nominaly"
   ]
  },
  {
   "cell_type": "code",
   "execution_count": 55,
   "metadata": {},
   "outputs": [
    {
     "name": "stdout",
     "output_type": "stream",
     "text": [
      "10\n",
      "[[-2.39535965  1.23766501 -0.10094166]]\n",
      "[ 0.01988463 -0.09201665 -0.01240311  0.01800084 -0.00959899 -0.08636881\n",
      "  0.06410268 -0.12620185  0.12580018 -0.19022836]\n"
     ]
    }
   ],
   "source": [
    "#Testing cell\n",
    "print(len(noise))\n",
    "print(np.random.randn(1,3))\n",
    "print(noise)\n",
    "\n",
    "\n",
    "# np.random.randn(n_data) gives us an array of n_data random numbers drawn from a Gaussian\n",
    "#   distribution with average=0 and standard deviation=1. If we want some other mu and sigma,\n",
    "#   we can do \"sigma * np.random.randn(n_data) + mu\"\n",
    "#   we will add this to our theoretical line to simulate an \"experimental signal\""
   ]
  },
  {
   "cell_type": "markdown",
   "metadata": {},
   "source": [
    "# Check Values"
   ]
  },
  {
   "cell_type": "code",
   "execution_count": 70,
   "metadata": {},
   "outputs": [
    {
     "name": "stdout",
     "output_type": "stream",
     "text": [
      "Our Output Data (y-values) of length 10: \n",
      "[0.02758984 0.19163885 0.29041311 0.53526392 2.03514106 1.82590661\n",
      " 0.66381345 0.13309206 0.20054187 0.07157201]\n",
      "\n",
      "Our Error associated with each measure of lenghth 10:\n",
      "[0.1 0.1 0.1 0.1 0.1 0.1 0.1 0.1 0.1 0.1]\n",
      "\n",
      "Our xvalue data of length 10:\n",
      "[-10.          -7.77777778  -5.55555556  -3.33333333  -1.11111111\n",
      "   1.11111111   3.33333333   5.55555556   7.77777778  10.        ]\n"
     ]
    }
   ],
   "source": [
    "print(f\"Our Output Data (y-values) of length {len(noisyline)}: \")\n",
    "print(noisyline)\n",
    "print(f\"\\nOur Error associated with each measure of lenghth {len(error)}:\")\n",
    "print(error)\n",
    "print(f\"\\nOur xvalue data of length {len(xdata)}:\")\n",
    "print(xdata)"
   ]
  },
  {
   "cell_type": "markdown",
   "metadata": {},
   "source": [
    "# Fit the Values using a package"
   ]
  },
  {
   "cell_type": "code",
   "execution_count": null,
   "metadata": {},
   "outputs": [],
   "source": [
    "# READ DOCUMENTATION here: https://docs.scipy.org/doc/scipy/reference/generated/scipy.optimize.curve_fit.html\n",
    "#   The goal is to understand the meaning of the above pararmeters of the function and to understand what \n",
    "#   the function calulates as its output.\n",
    "#           Absolute_sigma=True is SUPER important. If you don't do that, the covariance matrix that contains the \n",
    "#           uncertainties of the fitted pararemetrs will be WRONG!\n",
    "#\n",
    "# IMPORTANT: in your report you have to state explicitely which function \n",
    "#               you used to do the fit (even if it is not this one)."
   ]
  },
  {
   "cell_type": "code",
   "execution_count": 71,
   "metadata": {},
   "outputs": [],
   "source": [
    "parms, covariance = scipy.optimize.curve_fit(Lorenfunc,\n",
    "                xdata,\n",
    "                noisyline,\n",
    "                sigma=error,\n",
    "                p0=None,\n",
    "                absolute_sigma=True)"
   ]
  },
  {
   "cell_type": "code",
   "execution_count": 72,
   "metadata": {},
   "outputs": [
    {
     "name": "stdout",
     "output_type": "stream",
     "text": [
      "param  0  =  8.45294616481085 +/- 1.2321140473438463\n",
      "param  1  =  3.14344633609909 +/- 0.671492386445578\n"
     ]
    }
   ],
   "source": [
    "# print out our values\n",
    "#   This is in order 0 = A and 1 = B\n",
    "for i in range(0,len(parms)):\n",
    "    print('param ',i,' = ',parms[i], '+/-', np.sqrt(covariance[i,i]))"
   ]
  },
  {
   "cell_type": "code",
   "execution_count": 73,
   "metadata": {},
   "outputs": [],
   "source": [
    "# Create a fitted line with the new parameters the function generated \n",
    "fitline= Lorenfunc(xdata, *parms)\n",
    "\n",
    "\n",
    "# Note:\n",
    "#   * is used in front of parms to let python know that we use an array \n",
    "#   to relay LorenLine parameters instead of doing in one by one: A,B"
   ]
  },
  {
   "cell_type": "code",
   "execution_count": 76,
   "metadata": {},
   "outputs": [
    {
     "data": {
      "text/plain": [
       "<matplotlib.legend.Legend at 0x19520a52670>"
      ]
     },
     "execution_count": 76,
     "metadata": {},
     "output_type": "execute_result"
    },
    {
     "data": {
      "image/png": "[encoded data removed]",
      "text/plain": [
       "<Figure size 432x288 with 1 Axes>"
      ]
     },
     "metadata": {
      "needs_background": "light"
     },
     "output_type": "display_data"
    }
   ],
   "source": [
    "# Check what it looks like \n",
    "plt.plot(xdata, noisyline, 'b', label= \"data\")\n",
    "plt.plot(xdata, fitline, 'r', label= 'fit')\n",
    "plt.legend()"
   ]
  },
  {
   "cell_type": "markdown",
   "metadata": {},
   "source": [
    "# Now Examine $Chi^2$"
   ]
  },
  {
   "cell_type": "code",
   "execution_count": 85,
   "metadata": {},
   "outputs": [
    {
     "name": "stdout",
     "output_type": "stream",
     "text": [
      "Chi-square:  5.6428722119751376\n",
      "Degrees of freedom:  8\n",
      "Reduced chi-square:  0.7053590264968922\n",
      "CDF:  0.31283526628348196\n",
      "p-test value (not 2tail bc this is not Gausian/symmentric) :  0.6871647337165181\n",
      "\n",
      "DO NOT FORGET: This e.g. is useing .random.randn \n",
      " thus after each refresh the values will change.\n"
     ]
    }
   ],
   "source": [
    "# By definition: \n",
    "chisq = sum( (noisyline - fitline)**2 / error**2 )\n",
    "\n",
    "# ndf = number of degrees of freedom\n",
    "ndf = len(xdata)-len(parms)\n",
    "\n",
    "# prof advised not to use this \n",
    "chisq_reduced = chisq/float(ndf)\n",
    "\n",
    "#   Note:\n",
    "#       The reduced Chi2 = (Chi2/ndf) is just a \"shortcut\" that allows us to quickly decide if \n",
    "#       the data agrees with the model.\n",
    "#     If reduced Chi2 is about equal to one: we are definitely good, because (Chi2/ndf)=1 corresponds to \n",
    "#     the p-value of 0.5\n",
    "\n",
    "cdf = stat.chi2.cdf(chisq, df = ndf)\n",
    "\n",
    "# For a Chisquare with a given number of degrees of freedom the p-test value: \n",
    "#       is just one minus the cummilative distribtion \n",
    "#       fucntion (CDF) of the chisquare probabilty distribution evaluated at the calculated value of ChiSq\n",
    "pvalue = 1-cdf\n",
    "\n",
    "print('Chi-square: ',chisq)\n",
    "print('Degrees of freedom: ',ndf)\n",
    "print('Reduced chi-square: ',chisq_reduced)\n",
    "print('CDF: ', cdf)\n",
    "print('p-test value (not 2tail bc this is not Gausian/symmentric) : ',pvalue)\n",
    "print('\\nDO NOT FORGET: This e.g. is useing .random.randn \\n thus after each refresh the values will change.')\n"
   ]
  },
  {
   "cell_type": "code",
   "execution_count": null,
   "metadata": {},
   "outputs": [],
   "source": [
    "# Importantly, you can have (Chi2/ndf) significantly larger than one and still have p-value > 0.05.\n",
    "#   Example:\n",
    "#       Chi-square = 14.58514088020246; degrees of freedom = 8; reduced Chi-square = 1.8231426100253074\n",
    "#       p-test value :  0.067732169890656\n",
    "\n",
    "# CONCLUSION: \n",
    "#       Always calculate p-value using Chi2 and ndf"
   ]
  },
  {
   "cell_type": "markdown",
   "metadata": {},
   "source": [
    "# Final plots"
   ]
  },
  {
   "cell_type": "code",
   "execution_count": 88,
   "metadata": {},
   "outputs": [
    {
     "data": {
      "text/plain": [
       "<matplotlib.legend.Legend at 0x195202d4d30>"
      ]
     },
     "execution_count": 88,
     "metadata": {},
     "output_type": "execute_result"
    },
    {
     "data": {
      "image/png": "[encoded data removed]",
      "text/plain": [
       "<Figure size 432x288 with 1 Axes>"
      ]
     },
     "metadata": {
      "needs_background": "light"
     },
     "output_type": "display_data"
    }
   ],
   "source": [
    "# Same plots as b4\n",
    "plt.plot(xdata, noisyline, 'b', label= \"data\")\n",
    "plt.plot(xdata, fitline, 'r', label= 'fit')\n",
    "# Add error bars \n",
    "plt.errorbar(xdata,noisyline,yerr=error,fmt='.',ls=None, label='error points')\n",
    "plt.legend()"
   ]
  },
  {
   "cell_type": "code",
   "execution_count": 89,
   "metadata": {},
   "outputs": [
    {
     "data": {
      "image/png": "[encoded data removed]",
      "text/plain": [
       "<Figure size 432x288 with 1 Axes>"
      ]
     },
     "metadata": {
      "needs_background": "light"
     },
     "output_type": "display_data"
    }
   ],
   "source": [
    "#   Make it look nicer: \n",
    "#   by adding more points to the fitted line \n",
    "#   the specific data points wil still show up but now it wil be smooth\n",
    "\n",
    "# Increase the # of points & use the parameters from our curve_fit\n",
    "xdata_plot = np.linspace(-10,10,400)\n",
    "fitline_plot= Lorenfunc(xdata_plot, *parms)\n",
    "\n",
    "\n",
    "# Plot the new pretty line\n",
    "plt.plot(xdata_plot, fitline_plot,label=\"fit line\")\n",
    "# Plot the standard error (this will show the data points)\n",
    "plt.errorbar(xdata,noisyline,yerr=error,fmt='.',ls=None, label='data')\n",
    "\n",
    "\n",
    "# Make it puuurty\n",
    "plt.title('This is a Lorentzian')\n",
    "plt.grid()\n",
    "plt.legend()\n",
    "plot_xlabel = 'x (units)'\n",
    "plot_ylabel = 'y (units)'\n",
    "plt.xlabel(plot_xlabel)\n",
    "plt.ylabel(plot_ylabel)\n",
    "plt.show()\n"
   ]
  }
 ],
 "metadata": {
  "kernelspec": {
   "display_name": "Python 3",
   "language": "python",
   "name": "python3"
  },
  "language_info": {
   "codemirror_mode": {
    "name": "ipython",
    "version": 3
   },
   "file_extension": ".py",
   "mimetype": "text/x-python",
   "name": "python",
   "nbconvert_exporter": "python",
   "pygments_lexer": "ipython3",
   "version": "3.9.0"
  }
 },
 "nbformat": 4,
 "nbformat_minor": 2
}
