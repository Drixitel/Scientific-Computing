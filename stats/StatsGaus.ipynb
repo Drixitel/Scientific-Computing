{
 "cells": [
  {
   "cell_type": "code",
   "execution_count": 14,
   "metadata": {},
   "outputs": [],
   "source": [
    "import numpy as np\n",
    "import math as m\n",
    "import matplotlib.pyplot as plt\n",
    "import scipy as sc\n",
    "import scipy.stats as stat\n",
    "from scipy import stats"
   ]
  },
  {
   "cell_type": "markdown",
   "metadata": {},
   "source": [
    "# Defind values. E.g. Gravity"
   ]
  },
  {
   "cell_type": "code",
   "execution_count": 8,
   "metadata": {},
   "outputs": [],
   "source": [
    "#   expected g\n",
    "g=9.8\n",
    "\n",
    "#   measured Lengths L \n",
    "L = (10, 25, 50, 75)\n",
    "#   turn this ish into an array\n",
    "L = np.array (L,dtype=np.float64)\n",
    "\n",
    "\n",
    "#measured g at different L and uncertianties of g\n",
    "g_meas = np.array([8.60341904, 9.10147158, 9.87179984, 9.86823165],dtype=np.float64)\n",
    "\n",
    "\n",
    "# is this the variance or the std?\n",
    "error = np.array([0.67636208, 0.4559837,  0.36170647, 0.29458552],dtype=np.float64)"
   ]
  },
  {
   "cell_type": "markdown",
   "metadata": {},
   "source": [
    "# Define Function"
   ]
  },
  {
   "cell_type": "code",
   "execution_count": 4,
   "metadata": {},
   "outputs": [],
   "source": [
    "# define my model function\n",
    "def Linefunc(L, g): \n",
    "    #This will take L values and return g values\n",
    "    return g"
   ]
  },
  {
   "cell_type": "code",
   "execution_count": 5,
   "metadata": {},
   "outputs": [],
   "source": [
    "# Find fit\n",
    "parms, covariance = sc.optimize.curve_fit(Linefunc,L,g_meas,sigma=error,p0=None,absolute_sigma=True)"
   ]
  },
  {
   "cell_type": "code",
   "execution_count": 7,
   "metadata": {},
   "outputs": [
    {
     "name": "stdout",
     "output_type": "stream",
     "text": [
      "param  0  =  9.62263694865334 +/- 0.19550726552273417\n",
      "Just one paramater: L\n"
     ]
    }
   ],
   "source": [
    "# print values\n",
    "for i in range(0,len(parms)):\n",
    "    print('param ',i,' = ',parms[i], '+/-', np.sqrt(covariance[i,i]))\n",
    "\n",
    "print('Just one paramater: g')"
   ]
  },
  {
   "cell_type": "code",
   "execution_count": 19,
   "metadata": {},
   "outputs": [],
   "source": [
    "# Fitted line\n",
    "fitline= Linefunc(L, *parms)\n"
   ]
  },
  {
   "cell_type": "markdown",
   "metadata": {},
   "source": [
    "$$\n",
    "\\bar{X} = \\Sigma \\left(\\frac{x_i}{\\sigma_{x_i}^2} \\cdot \\frac{1}{\\Sigma \\frac{1}{\\sigma_{x_i}^2}} \\right)\n",
    "$$\n",
    "\n",
    "> $$\\sigma_q^2 = \\frac{1}{\\Sigma_i^3(\\frac{1}{\\sigma_{qi}^2})}$$"
   ]
  },
  {
   "cell_type": "markdown",
   "metadata": {},
   "source": [
    "$$\n",
    "Weights = \\sum{\\frac{1}{\\sigma}}\n",
    "$$\n",
    "\n",
    "$$\n",
    "\\bar{g_{weightAv}} = \\frac{1}{\\sum{\\frac{1}{\\sigma}}} \\cdot \\sum{\\frac{x_{measured}}{\\sigma}}\n",
    "$$\n",
    "\n",
    "$$\n",
    "\\sigma_{\\bar{g_w}} = \\sqrt{\\frac{1}{\\sum{\\frac{1}{\\sigma^2}}}}\n",
    "$$"
   ]
  },
  {
   "cell_type": "code",
   "execution_count": 20,
   "metadata": {},
   "outputs": [
    {
     "name": "stdout",
     "output_type": "stream",
     "text": [
      "g weighted average =  9.507966138081088 +/- 0.1955072644806284\n"
     ]
    }
   ],
   "source": [
    "# Now, calculate weighted average of g measured.\n",
    "\n",
    "weights = np.sum(1 / error)\n",
    "\n",
    "g_waverage = (1/weights)*np.sum(g_meas / error)\n",
    "\n",
    "g_waverage_STD = m.sqrt(1/np.sum(1/(error*error)))\n",
    "\n",
    "print('g weighted average = ',g_waverage, '+/-', g_waverage_STD)"
   ]
  },
  {
   "cell_type": "markdown",
   "metadata": {},
   "source": [
    "# $Chi^2$ Check, if reduced~1 "
   ]
  },
  {
   "cell_type": "code",
   "execution_count": 18,
   "metadata": {},
   "outputs": [
    {
     "name": "stdout",
     "output_type": "stream",
     "text": [
      "Chi-square:  4.746679697497241\n",
      "Degrees of freedom:  3\n",
      "Reduced chi-square:  1.5822265658324135\n",
      "CDF:  0.8086855434440542\n",
      "p-test value (not 2tail bc this is not Gausian/symmentric) :  0.1913144565559458\n"
     ]
    }
   ],
   "source": [
    "# now for some chi square magic to see how well we did \n",
    "\n",
    "chisq = sum( (g_meas-fitline)**2 / error**2 )\n",
    "\n",
    "ndf = len(L)-len(parms)\n",
    "\n",
    "chisq_reduced = chisq/float(ndf)\n",
    "\n",
    "cdf = stat.chi2.cdf(chisq, df = ndf)\n",
    "\n",
    "# For a Chisquare with a given number of degrees of freedom the p-test value: \n",
    "#       is just one minus the cummilative distribtion \n",
    "#       fucntion (CDF) of the chisquare probabilty distribution evaluated at the calculated value of ChiSq\n",
    "pvalue = 1-cdf\n",
    "\n",
    "print('Chi-square: ',chisq)\n",
    "print('Degrees of freedom: ',ndf)\n",
    "print('Reduced chi-square: ',chisq_reduced)\n",
    "print('CDF: ', cdf)\n",
    "print('p-test value (not 2tail bc this is not Gausian/symmentric) : ',pvalue)\n"
   ]
  },
  {
   "cell_type": "markdown",
   "metadata": {},
   "source": [
    "# Check Zscore"
   ]
  },
  {
   "cell_type": "markdown",
   "metadata": {},
   "source": [
    "$$\n",
    "Z_{score} = \\frac{g_{expected}- g_{Avmeasured}}{\\sigma_{gAv}}\n",
    "$$"
   ]
  },
  {
   "cell_type": "code",
   "execution_count": 21,
   "metadata": {},
   "outputs": [
    {
     "name": "stdout",
     "output_type": "stream",
     "text": [
      "Z score =  1.4937238403632256\n",
      "CDF =  0.9323760926727442\n",
      "two tailed p-value =  0.13524781465451152\n"
     ]
    }
   ],
   "source": [
    "# Comapre measured and predicted value using Gaussian z-score.\n",
    "\n",
    "# A value that is normalized and can be used on the standard distribution \n",
    "Zscore = (g - g_waverage)/g_waverage_STD\n",
    "\n",
    "print('Z score = ',Zscore)\n",
    "\n",
    "cdf = sc.stats.norm.cdf(Zscore,0,1)\n",
    "\n",
    "print (\"CDF = \",sc.stats.norm.cdf(Zscore,0,1))\n",
    "\n",
    "if cdf>0.5:\n",
    "    pvalue_2t = 2*(1-cdf)\n",
    "else :\n",
    "    pvalue_2t=2*(cdf)\n",
    "\n",
    "print (\"two tailed p-value = \",pvalue_2t)"
   ]
  },
  {
   "cell_type": "code",
   "execution_count": 22,
   "metadata": {},
   "outputs": [
    {
     "data": {
      "text/plain": [
       "<matplotlib.legend.Legend at 0x24d5744bd60>"
      ]
     },
     "execution_count": 22,
     "metadata": {},
     "output_type": "execute_result"
    },
    {
     "data": {
      "image/png": "[encoded data removed]",
      "text/plain": [
       "<Figure size 432x288 with 1 Axes>"
      ]
     },
     "metadata": {
      "needs_background": "light"
     },
     "output_type": "display_data"
    }
   ],
   "source": [
    "# Plot \n",
    "#plot the data and the fit line\n",
    "plt.title(\"g calculated from the pendulum time period measurements\") \n",
    "plt.xlabel(\"Pendulum length (m)\") \n",
    "plt.ylabel(\"g (m/s^2)\") \n",
    "\n",
    "\n",
    "# this will just make a line for our fited line, since it's only one value\n",
    "y_values = np.full((len(g_meas)),fitline)\n",
    "plt.plot(L, y_values, markersize=2 ,label=\"fit line\", color=\"red\")\n",
    "# Here the errorbar plot wil show us the relavance \n",
    "plt.errorbar(L,g_meas,yerr=error,fmt='ob',label=\"data\") \n",
    "\n",
    "plt.legend()"
   ]
  }
 ],
 "metadata": {
  "interpreter": {
   "hash": "42820a4b4986f6608db579be1c555b1f91a1d9160c7c42d0ba198c01529d282e"
  },
  "kernelspec": {
   "display_name": "Python 3.9.0 ('.venv': poetry)",
   "language": "python",
   "name": "python3"
  },
  "language_info": {
   "codemirror_mode": {
    "name": "ipython",
    "version": 3
   },
   "file_extension": ".py",
   "mimetype": "text/x-python",
   "name": "python",
   "nbconvert_exporter": "python",
   "pygments_lexer": "ipython3",
   "version": "3.9.0"
  },
  "orig_nbformat": 4
 },
 "nbformat": 4,
 "nbformat_minor": 2
}
