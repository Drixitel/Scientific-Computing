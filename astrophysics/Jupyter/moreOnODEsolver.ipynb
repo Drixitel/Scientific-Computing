{
 "cells": [
  {
   "attachments": {
    "image.png": {
     "image/png": "[encoded data removed]"
    }
   },
   "cell_type": "markdown",
   "metadata": {},
   "source": [
    "![image.png](attachment:image.png)"
   ]
  },
  {
   "cell_type": "markdown",
   "metadata": {},
   "source": [
    "# Important note: \n",
    "\n",
    "* I'm going to come in during lab, to ask where this went wrong. \n",
    "* My iterations keep reaching Max \n",
    "* I've looked over the code, and double checked my values, but I keep recieving the error. \n",
    "* I've also asked the professor and other students, and I can't find where things are going wrong. "
   ]
  },
  {
   "cell_type": "code",
   "execution_count": 9,
   "metadata": {},
   "outputs": [],
   "source": [
    "%matplotlib inline \n",
    "import matplotlib.pyplot as plt\n",
    "import numpy as np "
   ]
  },
  {
   "cell_type": "markdown",
   "metadata": {},
   "source": [
    "# Define coupled derivatives \n"
   ]
  },
  {
   "cell_type": "code",
   "execution_count": 10,
   "metadata": {},
   "outputs": [],
   "source": [
    "def ddx(x,y): \n",
    "    '''set the derivatives: ddx is d/dx and will represent all possible coupled derivatives\n",
    "        Return array of derivatives. x is not used in this funciton'''\n",
    "    \n",
    "    \n",
    "    #notice for this problem the x position in our function is not used or defined \n",
    "    #this will not be true for other problems \n",
    "    \n",
    "    #our equation is d^2y/dx^2 = -y \n",
    "    \n",
    "    #so we can write, see Coupled pairs for explanation \n",
    "    #dydx = z \n",
    "    #dzdx = -y\n",
    "    \n",
    "    #we will set y = y[0] fist positon in y entry array \n",
    "    #we will set z = y[1] second position in y entry array \n",
    "    \n",
    "    \n",
    "    \n",
    "    #declare an array \n",
    "    y_derivs = np.zeros(2)                 #array with 2 elements  y_d = [0,0]\n",
    "    \n",
    "    #set dydx = z \n",
    "    y_derivs[0] =  y[1]                    #1st value of derivative array  is 2nd value in y \n",
    "    \n",
    "    #set dzdx = -y\n",
    "    y_derivs[1] = -1*y[0]                  #2nd value of derivative array is the negative first value in y \n",
    "    \n",
    "    #here we have to return an array \n",
    "    \n",
    "    return y_derivs                        # y_d = [y[1], -y[0]] = [z, -y] = [dydx, dzdx]\n",
    "\n"
   ]
  },
  {
   "cell_type": "markdown",
   "metadata": {},
   "source": [
    "# Define Cash karp core "
   ]
  },
  {
   "cell_type": "code",
   "execution_count": 11,
   "metadata": {},
   "outputs": [],
   "source": [
    "def cash_karp_core(ddx, xi, yi, nv, h): \n",
    "    '''Passes yi array values into k values and creates y and y* values to return to aditive step function.\n",
    "       xi is passed but not used or changed in this function.'''\n",
    "    \n",
    "    #yi is not changed in this block, only utilited \n",
    "    #pulls the function: ddx \n",
    "    #nv is number of varaiables desired \n",
    "    #h values are not changed in this block only utilized \n",
    "    \n",
    "    #declare k values \n",
    "    k1 = np.zeros(nv)                     #set to zero, input determines length [0,0,..,0]\n",
    "    k2 = np.zeros(nv)\n",
    "    k3 = np.zeros(nv)\n",
    "    k4 = np.zeros(nv)\n",
    "    k5 = np.zeros(nv)\n",
    "    k6 = np.zeros(nv)\n",
    "    \n",
    "    #define all specific step sizes \n",
    "    #be aware, this particular problem does not depend on x-steps  \n",
    "    \n",
    "    #x-k1 step \n",
    "    x_k1 = xi\n",
    "    \n",
    "    #x-k2 step\n",
    "    x_k2 = xi + (1/5)*h\n",
    "    \n",
    "    #x-k3 step \n",
    "    x_k3 = xi + (3/10)*h\n",
    "    \n",
    "    #x-k4 step \n",
    "    x_k4 = xi + (3/5)*h\n",
    "    \n",
    "    #x-k5 step \n",
    "    x_k5 = xi + (1)*h\n",
    "    \n",
    "    #x-k6 step \n",
    "    x_k6 = xi + (7/8)*h\n",
    "    \n",
    "    \n",
    "    \n",
    "    #declare a temp y array \n",
    "    y_temp = np.zeros(nv)                           #tempoary vector used in calculation of k values  \n",
    "    \n",
    "    #get k1 values,\n",
    "    y_derivs = ddx(x_k1,yi)                         #ddx returns [z, -y]= [dydx,dzdx] given yi values \n",
    "    k1[:] = h*y_derivs[:]                           #ddx values are used to compute k values \n",
    "    \n",
    "    #get k2 values \n",
    "    y_temp[:] = yi[:] + (1/5)*k1[:]  \n",
    "    y_derivs = ddx(x_k2, y_temp) \n",
    "    k2[:] = h*y_derivs[:]\n",
    "    \n",
    "    #get k3 values \n",
    "    y_temp[:] = yi[:] + (3/40)*k1[:] + (9/40)*k2[:] \n",
    "    y_derivs = ddx(x_k3, y_temp) \n",
    "    k3[:] = h*y_derivs[:]\n",
    "    \n",
    "    #get k4 values \n",
    "    y_temp[:] = yi[:] + (3/10)*k1[:]+ (-9/10)*k2[:]+ (6/5)*k3[:]  \n",
    "    y_derivs = ddx(x_k4, y_temp) \n",
    "    k4[:] = h*y_derivs[:]\n",
    "    \n",
    "    #get k5 values \n",
    "    y_temp[:] = yi[:] + (-11/54)*k1[:]+ (5/2)*k2[:]+ (-70/27)*k3[:]+ (35/27)*k4[:]\n",
    "    y_derivs = ddx(x_k5, y_temp)  \n",
    "    k5[:] = h*y_derivs[:]\n",
    "    \n",
    "    #get k6 values \n",
    "    y_temp[:] = yi[:] + (1631/55296)*k1[:]+ (175/512)*k2[:]+ (575/13824)*k3[:] + (44275/110592)*k4[:] + (253/4096)*k5[:]\n",
    "    y_derivs = ddx(x_k6, y_temp) \n",
    "    k6[:] = h*y_derivs[:]\n",
    "    \n",
    "    \n",
    "    \n",
    "    #Compute y_i+1 and y*_i+1 \n",
    "    #where y is the inital and y* is the end value \n",
    "    \n",
    "    yipo = yi + (37/378)*k1 + (0)*k2 + (250/621)*k3 +(125/594)*k4 + (0)*k5 + (512/1771)*k6 \n",
    "    \n",
    "    yipo_str = yi + (2825/27648)*k1 + (0)*k2 + (18575/48384)*k3 +(13525/55296)*k4 + (277/14336)*k5 + (1/4)*k6 \n",
    "   \n",
    "    \n",
    "    return yipo, yipo_str #must return yipo* to use as error estimate "
   ]
  },
  {
   "cell_type": "markdown",
   "metadata": {},
   "source": [
    "# Define the adaptive step size "
   ]
  },
  {
   "cell_type": "code",
   "execution_count": 12,
   "metadata": {},
   "outputs": [],
   "source": [
    "def cash_karp_ad(ddx, x_i, y_i, nv, h, tol): \n",
    "    \n",
    "    #given a step we will see to adjust, or take the same step \n",
    "    #notice, takes in y_i array and sent to the core as yi and used to return y and y* \n",
    "    \n",
    "    \n",
    "    \n",
    "    \n",
    "    #define safety scale \n",
    "    SAFETY    = 0.9                      #satisfies the error tolerance, smaller\n",
    "    H_NEW_FAC = 2.0                      #larger \n",
    "    \n",
    "    #set a max number of iterations \n",
    "    imax = 10_000\n",
    "    \n",
    "    #set an iteratoin variable \n",
    "    i = 0 \n",
    "    \n",
    "    #create an error \n",
    "    Delta = np.full(nv,2*tol)          #first position: Shape (n)= [0,..,n] (x,y) = x by y array 2nd pos: fill value \n",
    "                                       #Delta = [2*tol,2*tol,2*tol ..., 2*tol] nv-amount of elements \n",
    "\n",
    "    \n",
    "    #remember the step \n",
    "    h_step = h                         #actual step \n",
    "    \n",
    "    \n",
    "    #adjust step \n",
    "    while (Delta.max()/tol > 1.0):     #.max() will pull the largest value in the the array Delta \n",
    "        \n",
    "        \n",
    "        #estimate our error by taking one step of size h\n",
    "                \n",
    "        y, y_str = cash_karp_core(ddx, x_i, y_i, nv, h_step) #fist large step from the end of the inverval \n",
    "        \n",
    "        #core retruns: \n",
    "        #y = yipo\n",
    "        #y_str = yipo_str \n",
    "        \n",
    "        \n",
    "        #compute an error \n",
    "        Delta = np.fabs(y - y_str)  #----------dif from the two values diff of two array values ?\n",
    "        \n",
    "        \n",
    "        #if the error is too large, take a smaller step \n",
    "        \n",
    "        if Delta.max()/tol > 1.0:\n",
    "            \n",
    "            #our error is too large, decrease the step \n",
    "            h_step *= SAFETY * (Delta.max()/tol)**(-0.25)\n",
    "            \n",
    "        #check iteration \n",
    "        if i >= imax: \n",
    "            print(\"Too many iterations in rk4_mv_ad()\")\n",
    "            raise StopIteration('Ending after i = ', i )\n",
    "            \n",
    "        #if not iterate \n",
    "        i += 1 \n",
    "        \n",
    "        \n",
    "        \n",
    "        \n",
    "    #next time, try to take a bigger step \n",
    "    h_new = np.fmin(h_step * (Delta.max()/tol)**(-0.9), h_step*H_NEW_FAC) #.fmin compars two arguments and returns min value\n",
    "    \n",
    "    \n",
    "    #RETURN the answer, a new step, and the step we actually took \n",
    "    #h_step still happened, but we modified it later \n",
    "    #h_step became h_new \n",
    "    #y is the new value to use \n",
    "\n",
    "    return y , h_new, h_step\n",
    "\n",
    "\n"
   ]
  },
  {
   "cell_type": "markdown",
   "metadata": {},
   "source": [
    "# Wrapper"
   ]
  },
  {
   "cell_type": "code",
   "execution_count": 13,
   "metadata": {},
   "outputs": [],
   "source": [
    "def cash_karp_wrap(ddx, a, b, y_a, tol):  \n",
    "    \n",
    "    \n",
    "    #dfdx is the derivative wrt x \n",
    "    #a is the lower bound \n",
    "    #b is the upper \n",
    "    #y_a are the boundary conditions \n",
    "    #tol is the tolerance for the integrating y \n",
    "    \n",
    "    # define our starting step \n",
    "    xi = a \n",
    "    yi = y_a.copy()\n",
    "    \n",
    "    #an initial step size == make very small\n",
    "    h = 1.0e-4 * (b-a)\n",
    "    \n",
    "    #set a maximum number of iterations \n",
    "    imax = 11_000\n",
    "    \n",
    "    #set a iteration variable \n",
    "    i = 0 \n",
    "    \n",
    "    #set a number of coupled odes to the \n",
    "    #size of y_a \n",
    "    \n",
    "    nv = len(y_a)\n",
    "    \n",
    "    \n",
    "    #set the inital conditions, what is np.ful \n",
    "    x = np.full(1,a) \n",
    "    y = np.full((1, nv), y_a)\n",
    "    \n",
    "    #set a flag \n",
    "    flag = 1\n",
    "    \n",
    "    #loop untl we reach the right side \n",
    "    while flag: \n",
    "        \n",
    "        #calcullate y_i+1 !!\n",
    "        yi_new, h_new, h_step = cash_karp_ad(ddx, xi, yi, nv, h, tol) #return new y, h_new, step taken h_step \n",
    "        \n",
    "        #update the step \n",
    "        h = h_new\n",
    "        \n",
    "        #prevent an overshot \n",
    "        if xi + h_step > b:\n",
    "            \n",
    "            #take a smaller step \n",
    "            h = b-xi \n",
    "            \n",
    "            #recalculate y_i+1\n",
    "            \n",
    "            yi_new, h_new, h_step = cash_karp_ad(ddx,xi,yi,nv,h,tol)\n",
    "            \n",
    "            #break\n",
    "            flag = 0 \n",
    "            \n",
    "        #update values \n",
    "        xi += h_step\n",
    "        yi[:] = yi_new[:]\n",
    "    \n",
    "        #add the step to the arrays \n",
    "    \n",
    "        x = np.append(x,xi)\n",
    "        \n",
    "    \n",
    "        y_new = np.zeros((len(x),nv))\n",
    "        \n",
    "        y_new[0:len(x)-1,:] = y \n",
    "        \n",
    "        y_new[-1,:] = yi[:]\n",
    "        \n",
    "        del y \n",
    "        \n",
    "        y = y_new\n",
    "    \n",
    "        #prevent too many iterations \n",
    "        if i >= imax: \n",
    "            print(\"Max iterations reached\")\n",
    "            raise StopIteration(\"Iteration number = \", i )\n",
    "        \n",
    "        \n",
    "        #iterate \n",
    "        i += 1 \n",
    "    \n",
    "        #output some info \n",
    "        s = 'i=  %3d \\t x = %9.8f \\t h = %9.8f \\t b = %9.8f' % (i, xi, h_step, b)\n",
    "        print(s)\n",
    "    \n",
    "        #break if new xi is ==b \n",
    "        if xi == b: \n",
    "            flag = 0 \n",
    "            \n",
    "    return x, y\n",
    "        \n",
    "    "
   ]
  },
  {
   "cell_type": "code",
   "execution_count": 14,
   "metadata": {},
   "outputs": [
    {
     "name": "stdout",
     "output_type": "stream",
     "text": [
      "i=    1 \t x = 0.00062832 \t h = 0.00062832 \t b = 6.28318531\n",
      "i=    2 \t x = 0.00188496 \t h = 0.00125664 \t b = 6.28318531\n",
      "i=    3 \t x = 0.00439823 \t h = 0.00251327 \t b = 6.28318531\n",
      "i=    4 \t x = 0.00942478 \t h = 0.00502655 \t b = 6.28318531\n",
      "i=    5 \t x = 0.01947787 \t h = 0.01005310 \t b = 6.28318531\n",
      "i=    6 \t x = 0.03958407 \t h = 0.02010619 \t b = 6.28318531\n",
      "i=    7 \t x = 0.07979645 \t h = 0.04021239 \t b = 6.28318531\n",
      "i=    8 \t x = 0.16022123 \t h = 0.08042477 \t b = 6.28318531\n",
      "i=    9 \t x = 0.32107077 \t h = 0.16084954 \t b = 6.28318531\n",
      "i=   10 \t x = 0.64276986 \t h = 0.32169909 \t b = 6.28318531\n",
      "i=   11 \t x = 0.93739384 \t h = 0.29462398 \t b = 6.28318531\n",
      "i=   12 \t x = 1.20675386 \t h = 0.26936002 \t b = 6.28318531\n",
      "i=   13 \t x = 1.49426997 \t h = 0.28751611 \t b = 6.28318531\n",
      "i=   14 \t x = 1.76344767 \t h = 0.26917769 \t b = 6.28318531\n",
      "i=   15 \t x = 2.03076151 \t h = 0.26731385 \t b = 6.28318531\n",
      "i=   16 \t x = 2.29758389 \t h = 0.26682237 \t b = 6.28318531\n",
      "i=   17 \t x = 2.56844699 \t h = 0.27086310 \t b = 6.28318531\n",
      "i=   18 \t x = 2.84768738 \t h = 0.27924039 \t b = 6.28318531\n",
      "i=   19 \t x = 3.12869484 \t h = 0.28100745 \t b = 6.28318531\n",
      "i=   20 \t x = 3.39732623 \t h = 0.26863139 \t b = 6.28318531\n",
      "i=   21 \t x = 3.66411066 \t h = 0.26678443 \t b = 6.28318531\n",
      "i=   22 \t x = 3.93155133 \t h = 0.26744067 \t b = 6.28318531\n",
      "i=   23 \t x = 4.20391433 \t h = 0.27236300 \t b = 6.28318531\n",
      "i=   24 \t x = 4.48601277 \t h = 0.28209844 \t b = 6.28318531\n",
      "i=   25 \t x = 4.76275451 \t h = 0.27674175 \t b = 6.28318531\n",
      "i=   26 \t x = 5.03073667 \t h = 0.26798215 \t b = 6.28318531\n",
      "i=   27 \t x = 5.29729916 \t h = 0.26656249 \t b = 6.28318531\n",
      "i=   28 \t x = 5.56553774 \t h = 0.26823858 \t b = 6.28318531\n",
      "i=   29 \t x = 5.83966631 \t h = 0.27412857 \t b = 6.28318531\n",
      "i=   30 \t x = 6.12503238 \t h = 0.28536607 \t b = 6.28318531\n",
      "i=   31 \t x = 6.28318531 \t h = 0.15815293 \t b = 6.28318531\n"
     ]
    }
   ],
   "source": [
    "a = 0.0\n",
    "b = 2.0 *np.pi \n",
    "\n",
    "y_0 = np.zeros(2)  #y_0 = [0,1] intial values? \n",
    "\n",
    "y_0[0] = 0.0\n",
    "y_0[1] = 1.0\n",
    "\n",
    "nv = 2 #why are there only 2 number of variables  [z, -y]????\n",
    "\n",
    "tolerance = 1.0e-6\n",
    "\n",
    "#perform the integration \n",
    "x,y = cash_karp_wrap(ddx,a,b, y_0, tolerance)  #wrapper - ddx organizer, a,b values? \n"
   ]
  },
  {
   "cell_type": "code",
   "execution_count": 15,
   "metadata": {},
   "outputs": [
    {
     "data": {
      "text/plain": [
       "<matplotlib.legend.Legend at 0x228e984e190>"
      ]
     },
     "execution_count": 15,
     "metadata": {},
     "output_type": "execute_result"
    },
    {
     "data": {
      "image/png": "[encoded data removed]",
      "text/plain": [
       "<Figure size 432x288 with 1 Axes>"
      ]
     },
     "metadata": {
      "needs_background": "light"
     },
     "output_type": "display_data"
    }
   ],
   "source": [
    "plt.plot(x,y[:,0], 'o', label =\"y(x)\")\n",
    "plt.plot(x,y[:,1], 'o', label =\"dydx(x)\")\n",
    "xx = np.linspace(0,2.0*np.pi, 1_000)\n",
    "plt.plot(xx, np.sin(xx), label ='sin(x)')\n",
    "plt.plot(xx, np.cos(xx), label ='cos(x)')\n",
    "plt.xlabel('x')\n",
    "plt.ylabel('y, dy/dx')\n",
    "plt.legend(frameon = False)"
   ]
  },
  {
   "cell_type": "markdown",
   "metadata": {},
   "source": [
    " # need to work through how to utilize with other functions and diffentials \n",
    " "
   ]
  },
  {
   "cell_type": "code",
   "execution_count": 16,
   "metadata": {},
   "outputs": [
    {
     "data": {
      "text/plain": [
       "<matplotlib.legend.Legend at 0x228e996d580>"
      ]
     },
     "execution_count": 16,
     "metadata": {},
     "output_type": "execute_result"
    },
    {
     "data": {
      "image/png": "[encoded data removed]",
      "text/plain": [
       "<Figure size 432x288 with 1 Axes>"
      ]
     },
     "metadata": {
      "needs_background": "light"
     },
     "output_type": "display_data"
    }
   ],
   "source": [
    "sine = np.sin(x)\n",
    "cosine = np.cos(x)\n",
    "\n",
    "y_error = (y[:,0]-sine)\n",
    "dydx_error = (y[:,1] - cosine)\n",
    "\n",
    "plt.plot(x,y_error, label = 'y(x) Error')\n",
    "plt.plot(x, dydx_error, label = 'dydx(x) Error')\n",
    "plt. legend(frameon = False)"
   ]
  }
 ],
 "metadata": {
  "kernelspec": {
   "display_name": "Python 3",
   "language": "python",
   "name": "python3"
  },
  "language_info": {
   "codemirror_mode": {
    "name": "ipython",
    "version": 3
   },
   "file_extension": ".py",
   "mimetype": "text/x-python",
   "name": "python",
   "nbconvert_exporter": "python",
   "pygments_lexer": "ipython3",
   "version": "3.8.3"
  }
 },
 "nbformat": 4,
 "nbformat_minor": 4
}
