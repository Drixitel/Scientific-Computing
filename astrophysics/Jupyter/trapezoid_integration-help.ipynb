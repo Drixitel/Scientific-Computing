{
 "cells": [
  {
   "cell_type": "code",
   "execution_count": 2,
   "metadata": {},
   "outputs": [],
   "source": [
    "%matplotlib  inline  \n",
    "import numpy as np \n",
    "import matplotlib.pyplot as plt"
   ]
  },
  {
   "cell_type": "markdown",
   "metadata": {},
   "source": [
    "# Define the function to integrate "
   ]
  },
  {
   "cell_type": "code",
   "execution_count": 3,
   "metadata": {},
   "outputs": [],
   "source": [
    "# define the function \n",
    "\n",
    "def func(x): #f(x) takes a set of values \n",
    "    a = 1.01\n",
    "    b = -3.04\n",
    "    c = 2.07 \n",
    "    return a*x**2 + b*x + c #returns a properformat "
   ]
  },
  {
   "cell_type": "markdown",
   "metadata": {},
   "source": [
    "# Define the integral "
   ]
  },
  {
   "cell_type": "code",
   "execution_count": 4,
   "metadata": {},
   "outputs": [],
   "source": [
    "def func_integral(x): #F(x) : Used to check if our aproximation is correct \n",
    "    a = 1.01\n",
    "    b = -3.04\n",
    "    c = 2.07 \n",
    "    return (a*x**3)/3 + (b*x**2)/2 + c*x"
   ]
  },
  {
   "cell_type": "markdown",
   "metadata": {},
   "source": [
    "# Define the core of the trapezoid method "
   ]
  },
  {
   "cell_type": "code",
   "execution_count": 5,
   "metadata": {},
   "outputs": [],
   "source": [
    "def trapezoid_core(f, x, h):\n",
    "    return 0.5*h*(f(x+h) + f(x))"
   ]
  },
  {
   "cell_type": "markdown",
   "metadata": {},
   "source": [
    "# Define a wrapper function to preform the trapezoid method "
   ]
  },
  {
   "cell_type": "markdown",
   "metadata": {},
   "source": [
    "# Question \n",
    "why are we defining the fucntion value as zero? \n",
    "do we assume zero and aproxomate from there? "
   ]
  },
  {
   "cell_type": "code",
   "execution_count": 27,
   "metadata": {},
   "outputs": [],
   "source": [
    "def trapezoid_method(f, a, b, N): \n",
    "    #f == function to integrate \n",
    "    #a == lower limit of integration\n",
    "    #b == upper limit of integration \n",
    "    #N == number of function evaluations to use \n",
    "    \n",
    "    #define x values to perform the trapezoid rule \n",
    "    \n",
    "    x = np.linspace(a, b, N) #create the x-axis (start,stop,# of steps)\n",
    "    h = x[1]- x[0]           #since linspace evenly speaced them out \n",
    "                             #we only need the change in the first and 2nd values\n",
    "                             #neat-o \n",
    "    \n",
    "    #define the value of the integral ...still.. why? \n",
    "    Fint = 0.0 \n",
    "    \n",
    "    #perform the integral using the trapezoid method \n",
    "    \n",
    "    #this is our summation wow-eee \n",
    "    \n",
    "    for i in range(0,len(x)-1,1):        #this is calling from an index of the array\n",
    "        Fint += trapezoid_core(f,x[i],h) #once you have your index, input the value into the function\n",
    "        \n",
    "    #return the answer \n",
    "    \n",
    "    \n",
    "    return Fint                          #after all iterations are done, returun last result "
   ]
  },
  {
   "cell_type": "code",
   "execution_count": 26,
   "metadata": {},
   "outputs": [
    {
     "name": "stdout",
     "output_type": "stream",
     "text": [
      "The array: [ 0.  1.  2.  3.  4.  5.  6.  7.  8.  9. 10.]\n",
      "0.0 1.0\n",
      "The length of s: 11\n",
      "length of s-1: 10\n",
      "0\n",
      "1\n",
      "2\n",
      "3\n",
      "4\n",
      "5\n",
      "6\n",
      "7\n",
      "8\n",
      "9\n"
     ]
    }
   ],
   "source": [
    "s = np.linspace(0,10,11)\n",
    "print(f'The array: {s}')\n",
    "print(s[0],s[1])\n",
    "print(f'The length of s: {len(s)}')\n",
    "print(f\"length of s-1: {len(s)-1}\")\n",
    "for l in range(0,len(s)-1,1):\n",
    "    print(l)\n",
    "    \n"
   ]
  },
  {
   "cell_type": "markdown",
   "metadata": {},
   "source": [
    "# Test the Trapezoid Method "
   ]
  },
  {
   "cell_type": "code",
   "execution_count": 28,
   "metadata": {},
   "outputs": [
    {
     "name": "stdout",
     "output_type": "stream",
     "text": [
      "True Answer=  0.8866666666666665\n",
      "Trapezoid method 0.888744855967078  Error  0.0023438225192610697\n",
      "Trapezoid method 0.8871329639889195  Error  0.0005258992356236916\n",
      "Trapezoid method 0.8868668252080856  Error  0.00022574271588618282\n",
      "Trapezoid method 0.886777339469647  Error  0.0001248189507298802\n",
      "Trapezoid method 0.8867367763431903  Error  7.907106374860865e-05\n",
      "Trapezoid method 0.8867150244182705  Error  5.4538817598559004e-05\n",
      "Trapezoid method 0.8867020233844429  Error  3.987599749222082e-05\n",
      "Trapezoid method 0.8866936388399296  Error  3.04197442816743e-05\n",
      "Trapezoid method 0.886687918192147  Error  2.396788588025455e-05\n"
     ]
    }
   ],
   "source": [
    "a = 0.0\n",
    "b = 1.0\n",
    "\n",
    "Answer = func_integral(b) - func_integral(a) #fundamental theorem of calculus \n",
    "\n",
    "#Sf(x)dx = F(b)-F(a) the above code is F(x)\n",
    "\n",
    "print('True Answer= ', Answer)\n",
    "\n",
    "\n",
    "#trapezoid approximation \n",
    "for N in range(10,100,10): \n",
    "    trap_answer = trapezoid_method(func, a, b, N)\n",
    "    error = (trap_answer-Answer)/Answer\n",
    "    print(\"Trapezoid method\", trap_answer, ' Error ', error)"
   ]
  },
  {
   "cell_type": "code",
   "execution_count": 31,
   "metadata": {},
   "outputs": [
    {
     "name": "stdout",
     "output_type": "stream",
     "text": [
      "Intervals: 10 \n",
      "Intervals: 20 \n",
      "Intervals: 30 \n",
      "Intervals: 40 \n",
      "Intervals: 50 \n",
      "Intervals: 60 \n",
      "Intervals: 70 \n",
      "Intervals: 80 \n",
      "Intervals: 90 \n"
     ]
    }
   ],
   "source": [
    "for m in range(10,100,10):\n",
    "    print(f\"Intervals: {m} \")"
   ]
  },
  {
   "cell_type": "markdown",
   "metadata": {},
   "source": [
    "# Question \n",
    "the eror_previous what is this? \n",
    "1/error? why ? "
   ]
  },
  {
   "cell_type": "code",
   "execution_count": 32,
   "metadata": {},
   "outputs": [
    {
     "name": "stdout",
     "output_type": "stream",
     "text": [
      "True Answer=  0.8866666666666665\n",
      "Trapezoid method 0.888744855967078  Error  0.0023438225192610697  Improvement  426.65346534654304\n",
      "Trapezoid method 0.8871329639889195  Error  0.0005258992356236916  Improvement  4.456790123456649\n",
      "Trapezoid method 0.8868668252080856  Error  0.00022574271588618282  Improvement  2.3296398891951164\n",
      "Trapezoid method 0.886777339469647  Error  0.0001248189507298802  Improvement  1.808561236624325\n",
      "Trapezoid method 0.8867367763431903  Error  7.907106374860865e-05  Improvement  1.578566732410711\n",
      "Trapezoid method 0.8867150244182705  Error  5.4538817598559004e-05  Improvement  1.4498125780911286\n",
      "Trapezoid method 0.8867020233844429  Error  3.987599749222082e-05  Improvement  1.3677104280387886\n",
      "Trapezoid method 0.8866936388399296  Error  3.04197442816743e-05  Improvement  1.31085906321189\n",
      "Trapezoid method 0.886687918192147  Error  2.396788588025455e-05  Improvement  1.2691876302171057\n"
     ]
    }
   ],
   "source": [
    "a = 0.0\n",
    "b = 1.0\n",
    "\n",
    "Answer = func_integral(b) - func_integral(a)\n",
    "print('True Answer= ', Answer)\n",
    "\n",
    "error_prev = 1.0   #...why? \n",
    "\n",
    "#trapezoid approximation \n",
    "for N in range(10,100,10): \n",
    "    trap_answer = trapezoid_method(func, a, b, N)\n",
    "    error = (trap_answer-Answer)/Answer\n",
    "    print(\"Trapezoid method\", trap_answer, ' Error ', error, ' Improvement ', error_prev/error)\n",
    "    error_prev = error"
   ]
  }
 ],
 "metadata": {
  "kernelspec": {
   "display_name": "Python 3",
   "language": "python",
   "name": "python3"
  },
  "language_info": {
   "codemirror_mode": {
    "name": "ipython",
    "version": 3
   },
   "file_extension": ".py",
   "mimetype": "text/x-python",
   "name": "python",
   "nbconvert_exporter": "python",
   "pygments_lexer": "ipython3",
   "version": "3.8.3"
  }
 },
 "nbformat": 4,
 "nbformat_minor": 4
}
