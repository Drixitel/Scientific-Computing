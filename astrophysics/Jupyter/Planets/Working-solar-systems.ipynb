{
 "cells": [
  {
   "cell_type": "code",
   "execution_count": 51,
   "metadata": {},
   "outputs": [],
   "source": [
    "%matplotlib inline \n",
    "import matplotlib.pyplot as plt\n",
    "import numpy as np\n",
    "from collections import namedtuple "
   ]
  },
  {
   "cell_type": "code",
   "execution_count": 52,
   "metadata": {},
   "outputs": [],
   "source": [
    "class planet():\n",
    "    'A planet in our solar system'\n",
    "   \n",
    "    \n",
    "    def __init__(self, semimajor, eccentricity):\n",
    "        self.x   = np.zeros(2)\n",
    "        self.v   = np.zeros(2)\n",
    "        self.a_g = np.zeros(2)\n",
    "        self.t   = 0.0\n",
    "        self.dt  = 0.0\n",
    "        self.a   = semimajor\n",
    "        self.e   = eccentricity\n",
    "        self.istep = 0\n",
    "        \n",
    "        self.name = \"\""
   ]
  },
  {
   "cell_type": "code",
   "execution_count": 53,
   "metadata": {},
   "outputs": [],
   "source": [
    "solar_system = {'M_sun': 1.0, 'G': 39.4784176043574320}\n",
    "#units Au, solarmasses, secords ?"
   ]
  },
  {
   "cell_type": "code",
   "execution_count": 54,
   "metadata": {},
   "outputs": [],
   "source": [
    "def SolarCircularVelocity(p):\n",
    "    \n",
    "    G = solar_system['G']\n",
    "    M = solar_system['M_sun']\n",
    "    r = (p.x[0]**2 + p.x[1]**2)**0.5\n",
    "    \n",
    "    return (G*M/r)**0.5"
   ]
  },
  {
   "cell_type": "code",
   "execution_count": 55,
   "metadata": {},
   "outputs": [],
   "source": [
    "def SolarGravitationalAcceleration(p): \n",
    "    '''This returns the x and y components of the acceleratoin'''\n",
    "    \n",
    "    G = solar_system['G']\n",
    "    M = solar_system['M_sun']\n",
    "    r = (p.x[0]**2 + p.x[1]**2)**0.5\n",
    "    \n",
    "   \n",
    "    a_grav = -1.0*(G*M/r**2)\n",
    "    \n",
    "    if (p.x[0]== 0.0):\n",
    "        if (p.x[1]>0.0):\n",
    "            theta = 0.5*np.pi\n",
    "        \n",
    "        else:\n",
    "            theta = 1.5*np.pi\n",
    "\n",
    "    else:\n",
    "        theta = np.arctan2(p.x[1], p.x[0])\n",
    "    \n",
    "    return a_grav*np.cos(theta), a_grav*np.sin(theta)"
   ]
  },
  {
   "cell_type": "code",
   "execution_count": 56,
   "metadata": {},
   "outputs": [],
   "source": [
    "def calc_dt(p):\n",
    "    \n",
    "    ETA_TIME_STEP = .0004\n",
    "    \n",
    "\n",
    "    eta = ETA_TIME_STEP\n",
    "    \n",
    "    v = (p.v[0]**2 + p.v[1]**2)**0.5  \n",
    "    a = (p.a_g[0]**2 + p.a_g[1]**2)**0.5 \n",
    "    \n",
    "    dt = eta * np.fmin(1./np.fabs(v),1./np.fabs(a)**0.5)\n",
    "    \n",
    "    return dt "
   ]
  },
  {
   "cell_type": "code",
   "execution_count": 57,
   "metadata": {},
   "outputs": [],
   "source": [
    "def SetPlanet(p, i):\n",
    "    \n",
    "    AU_in_km = 1.495979e+8\n",
    "    \n",
    "    v_c = 0.0\n",
    "    v_e = 0.0\n",
    "    \n",
    "    if i == 0:\n",
    "        \n",
    "    \n",
    "        p.a = 57909227.0/ AU_in_km\n",
    "        p.e = 0.20563593\n",
    "        p.name = 'Mercury'\n",
    "        \n",
    "    elif i ==1:\n",
    "        \n",
    "        p.a = 108209475.0/ AU_in_km\n",
    "        p.e = 0.00677672\n",
    "        p.name = 'Venus'\n",
    "\n",
    "    elif i==2:\n",
    "        \n",
    "        p.a = 1.0 \n",
    "        p.e = 0.01671123\n",
    "        p.name = 'Earth'\n",
    "          \n",
    "    p.t = 0.0\n",
    "    p.x[0] = p.a*(1.0-p.e)\n",
    "    p.x[1] = 0.0\n",
    "    \n",
    "    v_c = SolarCircularVelocity(p)\n",
    "    \n",
    "    v_e = v_c * (1 + p.e)**0.5 \n",
    "    \n",
    "    p.v[0] = 0.0\n",
    "    p.v[1] = v_e\n",
    "    \n",
    "\n",
    "    p.a_g = SolarGravitationalAcceleration(p)\n",
    "    \n",
    "    p.dt = calc_dt(p)"
   ]
  },
  {
   "cell_type": "code",
   "execution_count": 58,
   "metadata": {},
   "outputs": [],
   "source": [
    "def x_first_step(x_i,v_i,a_i,dt):\n",
    "     \n",
    "    return x_i + 0.5*v_i*dt + 0.25*a_i*dt**2"
   ]
  },
  {
   "cell_type": "code",
   "execution_count": 59,
   "metadata": {},
   "outputs": [],
   "source": [
    "def v_full_step(v_i, a_ipoh, dt):\n",
    "    \n",
    "    return v_i + a_ipoh*dt"
   ]
  },
  {
   "cell_type": "code",
   "execution_count": 60,
   "metadata": {},
   "outputs": [],
   "source": [
    "def x_full_step(x_ipoh, v_ipl, a_ipoh, dt):\n",
    "    \n",
    "    return x_ipoh + v_ipl*dt"
   ]
  },
  {
   "cell_type": "code",
   "execution_count": 61,
   "metadata": {},
   "outputs": [],
   "source": [
    "def SaveSolarSystem(p, n_planets, t, dt, istep, ndim):\n",
    " \n",
    "    for i in range(n_planets):\n",
    "        \n",
    "        fname = \"planet.%s.txt\" % p[i].name\n",
    "        \n",
    "        if(istep==0):\n",
    "            fp = open(fname,\"w\")\n",
    "        else:\n",
    "            fp = open(fname,\"a\")\n",
    "            \n",
    "        v_drift = np.zeros(ndim)\n",
    "        \n",
    "        for k in range(ndim):\n",
    "            v_drift[k] = p[i].v[k] + 0.5*p[i].a_g[k]*p[i].dt\n",
    "            \n",
    "        s = \"%6d\\t%6.5f\\t%6.5f\\t%6d\\t%6.5f\\t%6.5f\\t% 6.5f\\t% 6.5f\\t% 6.5f\\t% 6.5f\\t% 6.5f\\t% 6.5f\\n\" % \\\n",
    "            (istep,t,dt,p[i].istep,p[i].t,p[i].dt,p[i].x[0],p[i].x[1],v_drift[0],v_drift[1], \\\n",
    "             p[i].a_g[0], p[i].a_g[1])\n",
    "\n",
    "        fp.write(s)\n",
    "        fp.close()\n"
   ]
  },
  {
   "cell_type": "code",
   "execution_count": 69,
   "metadata": {},
   "outputs": [],
   "source": [
    "def EvolveSolarSystem(p,n_planets,t_max):\n",
    "    ndim = 2\n",
    "    \n",
    "    dt = 0.5/365.25\n",
    "    t = 0.0\n",
    "    istep = 0\n",
    "    #save our initial conditions\n",
    "    \n",
    "    SaveSolarSystem(p,n_planets,t,dt,istep,ndim)\n",
    "    \n",
    "    #begin a loop over the global timescale\n",
    "    \n",
    "    while(t<t_max):        \n",
    "        if(t+dt>t_max):\n",
    "            dt = t_max - t # limit the step to align with t_max        \n",
    "            #evolve each planet\n",
    "            \n",
    "        for i in range(n_planets):\n",
    "            \n",
    "            while(p[i].t<t+dt):\n",
    "                \n",
    "                #take the first step according to a verlet scheme\n",
    "                \n",
    "                if(p[i].istep==0):\n",
    "                    \n",
    "                    #take the first step\n",
    "                    for k in range(ndim):\n",
    "                        \n",
    "                        p[i].x[k] = x_first_step(p[i].x[k],p[i].v[k],p[i].a_g[k],p[i].dt)\n",
    "                        \n",
    "                    #update the acceleration\n",
    "                    \n",
    "                    p[i].a_g = SolarGravitationalAcceleration(p[i])\n",
    "                    \n",
    "                    #update the time by 1/2dt\n",
    "                    p[i].t += 0.5*p[i].dt\n",
    "                    \n",
    "                    #update the timestep\n",
    "                    \n",
    "                    p[i].dt = calc_dt(p[i])\n",
    "                    \n",
    "                    #continue with a normal step\n",
    "                    #limit the planet’s timestep to align with the global step\n",
    "                \n",
    "                if(p[i].t + p[i].dt > t+dt):\n",
    "                    p[i].dt = t + dt - p[i].t\n",
    "                    #evolve the velocity\n",
    "                for k in range(ndim):\n",
    "                    p[i].v[k] = v_full_step(p[i].v[k],p[i].a_g[k],p[i].dt)\n",
    "                    #evolve the position\n",
    "                for k in range(ndim):\n",
    "                    p[i].x[k] = x_full_step(p[i].x[k],p[i].v[k],p[i].a_g[k],p[i].dt)\n",
    "                    #update the acceleration\n",
    "                    \n",
    "                p[i].a_g = SolarGravitationalAcceleration(p[i])\n",
    "                #update the time\n",
    "                p[i].t += p[i].dt\n",
    "                #compute the new timestep\n",
    "                p[i].dt = calc_dt(p[i])\n",
    "                #update the integer timestep\n",
    "                p[i].istep += 1\n",
    "                #update the global system time\n",
    "                \n",
    "            t+=dt\n",
    "        #update the global timestep number\n",
    "            istep += 1   #output the current state\n",
    "            SaveSolarSystem(p,n_planets,t,dt,istep,ndim)\n",
    "    print('Time t = ', t)\n",
    "    print('Maximum t = ',t_max)\n",
    "    print('Number of steps = ',istep)\n",
    "\n",
    " \n",
    "\n"
   ]
  },
  {
   "cell_type": "code",
   "execution_count": 63,
   "metadata": {},
   "outputs": [],
   "source": [
    "def read_twelve_arrays(fname): \n",
    "    fp = open(fname, 'r')  #fr file pointer, representation of info in file \n",
    "    fl = fp.readlines() #built in function read all the lines, retures array, the elements in array are strnigs \n",
    "    n = len(fl) \n",
    "    \n",
    "    a = np.zeros(n)\n",
    "    b = np.zeros(n)\n",
    "    c = np.zeros(n)\n",
    "    d = np.zeros(n)\n",
    "    f = np.zeros(n)\n",
    "    g = np.zeros(n)\n",
    "    h = np.zeros(n)\n",
    "    j = np.zeros(n)\n",
    "    k = np.zeros(n)\n",
    "    l = np.zeros(n)\n",
    "    m = np.zeros(n) #have n elements, # of lines as the length of the arrayin file \n",
    "    p = np.zeros(n) #each array is a coloum in the file \n",
    "    \n",
    "    for i in range(n): #loop through file \n",
    "        a[i] = float(fl[i].split()[0]) #fl is the array, each element is a line in the file, fl[i] is a line \n",
    "        b[i] = float(fl[i].split()[1]) #stings have ''split' natural split (series of tabs) they will be seperated out\n",
    "        c[i] = float(fl[i].split()[2]) #ex: sentance each word in the sentance (each element is a word)\n",
    "        d[i] = float(fl[i].split()[3]) #12 coloummbs 0 entry in the 1st colomn..? \n",
    "        f[i] = float(fl[i].split()[4]) #split into 12 strings, 12 coloums seperated by tabs \n",
    "        g[i] = float(fl[i].split()[5]) #converted to a float \n",
    "        h[i] = float(fl[i].split()[6]) #each read in from the text file will be converted into a float \n",
    "        j[i] = float(fl[i].split()[7])\n",
    "        k[i] = float(fl[i].split()[8])\n",
    "        l[i] = float(fl[i].split()[9])\n",
    "        m[i] = float(fl[i].split()[10])\n",
    "        p[i] = float(fl[i].split()[11])\n",
    "        \n",
    "    return a,b,c,d,f,g,h,j,k,l,m,p\n",
    "        "
   ]
  },
  {
   "cell_type": "code",
   "execution_count": 70,
   "metadata": {},
   "outputs": [
    {
     "name": "stdout",
     "output_type": "stream",
     "text": [
      "Time t =  2.000000000000041\n",
      "Maximum t =  2.0\n",
      "Number of steps =  1464\n"
     ]
    }
   ],
   "source": [
    "#set the number of planets \n",
    "#earth stats on the x-axis wit y =0 \n",
    "\n",
    "n_planets = 3 \n",
    "\n",
    "#set the max time of the simulation \n",
    "t_max = 2.0\n",
    "\n",
    "#create empty list of planets \n",
    "p = []\n",
    "\n",
    "#set the planets \n",
    "for i in range(n_planets): \n",
    "    \n",
    "    #create an empty planet \n",
    "    ptmp = planet(0.0,0.0)\n",
    "    \n",
    "    #set the planet properties \n",
    "    SetPlanet(ptmp, i)\n",
    "    \n",
    "    #remember the planet \n",
    "    p.append(ptmp)\n",
    "    \n",
    "#evolve the solar system \n",
    "EvolveSolarSystem(p, n_planets, t_max)"
   ]
  },
  {
   "cell_type": "code",
   "execution_count": 65,
   "metadata": {},
   "outputs": [],
   "source": [
    "fname = \"planet.Mercury.txt\"\n",
    "istepMg,tMg,dtMg,istepM,tM,dtM,xM,yM,vxM,vyM,axM,ayM = read_twelve_arrays(fname)"
   ]
  },
  {
   "cell_type": "code",
   "execution_count": 66,
   "metadata": {},
   "outputs": [],
   "source": [
    "fname = \"planet.Venus.txt\"\n",
    "istepVg,tVg,dtVg,istepV,tV,dtV,xV,yV,vx,vyV,axV,ayV = read_twelve_arrays(fname)"
   ]
  },
  {
   "cell_type": "code",
   "execution_count": 67,
   "metadata": {},
   "outputs": [],
   "source": [
    "fname = \"planet.Earth.txt\"\n",
    "istepEg,tEg,dtEg,istepE,tE,dtE,xE,yE,vxE,vyE,axE,ayE = read_twelve_arrays(fname)"
   ]
  },
  {
   "cell_type": "code",
   "execution_count": 71,
   "metadata": {},
   "outputs": [
    {
     "name": "stderr",
     "output_type": "stream",
     "text": [
      "<ipython-input-71-f6127b583853>:25: MatplotlibDeprecationWarning: Adding an axes using the same arguments as a previous axes currently reuses the earlier instance.  In a future version, a new instance will always be created and returned.  Meanwhile, this warning can be suppressed, and the future behavior ensured, by passing a unique label to each axes instance.\n",
      "  plt.axes().set_aspect('equal')\n"
     ]
    },
    {
     "data": {
      "text/plain": [
       "<matplotlib.legend.Legend at 0x29223053f10>"
      ]
     },
     "execution_count": 71,
     "metadata": {},
     "output_type": "execute_result"
    },
    {
     "data": {
      "image/png": "[encoded data removed]",
      "text/plain": [
       "<Figure size 504x504 with 1 Axes>"
      ]
     },
     "metadata": {
      "needs_background": "light"
     },
     "output_type": "display_data"
    }
   ],
   "source": [
    "fig = plt.figure(figsize = (7,7))\n",
    "\n",
    "xSun = [0.0]\n",
    "ySun = [0.0]\n",
    "\n",
    "\n",
    "plt.plot(xSun,ySun, 'o', color ='0.5', label = 'Sun')\n",
    "\n",
    "plt.plot(xM,yM, color= 'red')\n",
    "plt.plot(xM[-1], yM[-1], 'o', color= 'red', label = 'Mercury')\n",
    "\n",
    "plt.plot(xV, yV, color ='green')\n",
    "plt.plot(xV[-1], yV[-1], 'o', color= 'green', label = 'Venus')\n",
    "\n",
    "\n",
    "plt.plot(xE, yE, color ='blue')\n",
    "plt.plot(xE[-1], yE[-1], 'o', color= 'blue', label = 'Earth')\n",
    "\n",
    "\n",
    "plt.xlim([-1.25,1.25])\n",
    "plt.ylim([-1.25,1.25])\n",
    "\n",
    "plt.xlabel('x [AU]')\n",
    "plt.ylabel('y [AU]')\n",
    "plt.axes().set_aspect('equal')\n",
    "plt.legend(frameon=False, loc= 2)"
   ]
  },
  {
   "cell_type": "code",
   "execution_count": null,
   "metadata": {},
   "outputs": [],
   "source": []
  }
 ],
 "metadata": {
  "kernelspec": {
   "display_name": "Python 3",
   "language": "python",
   "name": "python3"
  },
  "language_info": {
   "codemirror_mode": {
    "name": "ipython",
    "version": 3
   },
   "file_extension": ".py",
   "mimetype": "text/x-python",
   "name": "python",
   "nbconvert_exporter": "python",
   "pygments_lexer": "ipython3",
   "version": "3.8.5"
  }
 },
 "nbformat": 4,
 "nbformat_minor": 4
}
