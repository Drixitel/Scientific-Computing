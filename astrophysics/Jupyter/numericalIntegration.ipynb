{
 "cells": [
  {
   "attachments": {
    "image.png": {
     "image/png": "[encoded data removed]"
    }
   },
   "cell_type": "markdown",
   "metadata": {},
   "source": [
    "# Integrate\n",
    "\n",
    "![image.png](attachment:image.png)\n",
    "\n",
    "Using Trapazoid, Simpson's, and Romberg Integration"
   ]
  },
  {
   "cell_type": "markdown",
   "metadata": {},
   "source": [
    "## Trapezoid "
   ]
  },
  {
   "cell_type": "code",
   "execution_count": null,
   "metadata": {},
   "outputs": [],
   "source": [
    "import numpy as np \n",
    "import matplotlib.pyplot as plt"
   ]
  },
  {
   "cell_type": "code",
   "execution_count": null,
   "metadata": {},
   "outputs": [],
   "source": [
    "# define the function \n",
    "\n",
    "def function(x): #f(x) takes a set of values \n",
    "    a = 2\n",
    "    b = 10\n",
    "    return np.exp(-a*x)*np.cos(b*x) #returns a properformat "
   ]
  },
  {
   "cell_type": "code",
   "execution_count": null,
   "metadata": {},
   "outputs": [],
   "source": [
    "def function_integral(x): #F(x) : Used to check if our aproximation is correct \n",
    "   \n",
    "    return (1/52)*(np.exp(-2*x)*(5*np.sin(10*x)-np.cos(10*x)))"
   ]
  },
  {
   "cell_type": "code",
   "execution_count": null,
   "metadata": {},
   "outputs": [],
   "source": [
    "def trapezoid_core(f, x, h):\n",
    "    return 0.5*h*(f(x+h) + f(x))"
   ]
  },
  {
   "cell_type": "code",
   "execution_count": null,
   "metadata": {},
   "outputs": [],
   "source": [
    "def trapezoid_method(f, a, b, N): \n",
    "    #f == function to integrate \n",
    "    #a == lower limit of integration\n",
    "    #b == upper limit of integration \n",
    "    #N == number of function evaluations to use \n",
    "    \n",
    "    #define x values to perform the trapezoid rule \n",
    "    \n",
    "    x = np.linspace(a, b, N) #create the x-axis (start,stop,# of steps)\n",
    "    h = x[1]- x[0]           #since linspace evenly speaced them out \n",
    "                             #we only need the change in the first and 2nd values\n",
    "                             #neat-o \n",
    "    \n",
    "    #define the value of the integral ...still.. why? \n",
    "    Fint = 0.0 \n",
    "    \n",
    "    #perform the integral using the trapezoid method \n",
    "    \n",
    "    #this is our summation wow-eee \n",
    "    \n",
    "    for i in range(0,len(x)-1,1):        #this is calling from an index of the array\n",
    "        Fint += trapezoid_core(f,x[i],h) #once you have your index, input the value into the function\n",
    "        \n",
    "    #return the answer \n",
    "    \n",
    "    \n",
    "    return Fint                          #after all iterations are done, returun last result "
   ]
  },
  {
   "cell_type": "markdown",
   "metadata": {},
   "source": [
    "# Simpson's "
   ]
  },
  {
   "cell_type": "code",
   "execution_count": null,
   "metadata": {},
   "outputs": [],
   "source": [
    "def simpson_core(f,x,h):  #takes a function,and two values \n",
    "    \n",
    "    return h*( f(x) + 4*f(x+h) + f(x+2*h))/3. \n",
    "\n",
    "#very very important note\n",
    "#the core is already accounting for the values \n",
    "#1/3f(x_i) + 4/3f(x_(i+1)) + 1/3f(x_(i+2)) Mah fucking god  \n",
    "\n",
    "#returns an interval evaluation \n"
   ]
  },
  {
   "cell_type": "code",
   "execution_count": null,
   "metadata": {},
   "outputs": [],
   "source": [
    "def simpsons_method(f,a,b,N): \n",
    "    #f == function to integrate \n",
    "    #a == lowre limit of integration\n",
    "    #b == upper limit of integration \n",
    "    #N == number of function evauations to use \n",
    "    # note if N is odd, then we don't need to adjust the\n",
    "    # the last segment\n",
    "    \n",
    "    #define the x values to preform the simpsons rule \n",
    "    x = np.linspace(a,b,N)\n",
    "    h = x[1]-x[0]          #same as Trapzoid, linspace is even, so just take first 2\n",
    "    \n",
    "    #define the value of the integral ..why?\n",
    "    Fint = 0.0 \n",
    "    \n",
    "    #preform the integral using simpson's Method \n",
    "    for i in range(0,len(x)-2, 2): \n",
    "        Fint += simpson_core(f,x[i], h)\n",
    "        \n",
    "        \n",
    "    #apply simpson's rule over the last interval\n",
    "    #if N is even \n",
    "    if (N%2) == 0: #rule for even modulus \n",
    "        Fint += simpson_core(f,x[-2], 0.5*h)\n",
    "\n",
    "    return Fint"
   ]
  },
  {
   "cell_type": "markdown",
   "metadata": {},
   "source": [
    "# Romberg"
   ]
  },
  {
   "cell_type": "code",
   "execution_count": null,
   "metadata": {},
   "outputs": [],
   "source": [
    "def romberg_core(f,a,b,i): \n",
    "    \n",
    "    #we need the difference b-a \n",
    "    h = b-a \n",
    "    \n",
    "    #and the increment between nnew function evaluatoins\n",
    "    dh = h/2.**(i)\n",
    "    \n",
    "    #we need the cofactor .. why is the h here \n",
    "    K = h/2.**(i+1)\n",
    "    \n",
    "    #and the function evaluations \n",
    "    M = 0.0 \n",
    "    for j in range(2**i): \n",
    "        M += f(a + 0.5*dh + j*dh)\n",
    "        \n",
    "    #return the answer\n",
    "    return K*M "
   ]
  },
  {
   "cell_type": "code",
   "execution_count": null,
   "metadata": {},
   "outputs": [],
   "source": [
    "def romberg_integration(f,a,b,tol):\n",
    "    \n",
    "    #define an iteration variable \n",
    "    i = 0 \n",
    "    \n",
    "    #define a maximum number of iterations\n",
    "    imax = 1000\n",
    "    \n",
    "    #define an error estimate, set to a large value \n",
    "    delta = 100.0*np.fabs(tol)\n",
    "    \n",
    "    #set an array of integral answers \n",
    "    I  = np.zeros(imax, dtype=float)\n",
    "    \n",
    "    #get the zeroth romberg iteration\n",
    "    I[0] = 0.5*(b-a)*(f(a)+f(b))\n",
    "    \n",
    "    #iterate by 1 \n",
    "    i += 1 \n",
    "    \n",
    "    while (delta>tol): \n",
    "        \n",
    "        #find this romberg iteration \n",
    "        I[i] = 0.5*I[i-1] + romberg_core(f,a,b,i)\n",
    "        \n",
    "        #compute the new fractional error estimate \n",
    "        delta = np.fabs( (I[i]- I[i-1])/I[i] )\n",
    "        \n",
    "        #print(i,I[i],I[i-1],delta)\n",
    "        \n",
    "        if delta>tol: \n",
    "            \n",
    "            #iterate \n",
    "            i += 1 \n",
    "            \n",
    "            #if we've reached the max, iterations \n",
    "            \n",
    "            if i>imax: \n",
    "                print(\"Max iterations reached.\")\n",
    "                raise StopIteration('Stopping iterations after', i )\n",
    "                \n",
    "    print(f'Iterations: {i}')\n",
    "    return I[i]\n",
    "    "
   ]
  },
  {
   "cell_type": "markdown",
   "metadata": {},
   "source": [
    "# Test "
   ]
  },
  {
   "cell_type": "code",
   "execution_count": null,
   "metadata": {},
   "outputs": [],
   "source": [
    "Answer = function_integral(np.pi) - function_integral(0)\n",
    "print(f\"True Answer = {Answer}\")\n",
    "\n",
    "\n",
    "print('\\nTrapezoid Solution:')\n",
    "print(trapezoid_method(function,0,np.pi,2928))\n",
    "\n",
    "trap_answer = trapezoid_method(function, 0, np.pi, 2928)\n",
    "trap_error = (np.fabs(trap_answer-Answer))/Answer\n",
    "\n",
    "print('\\tError = %.2e'  %trap_error) \n",
    "print('\\tAmount of Intervals: 2928')\n",
    "\n",
    "print('\\nSimpson Solution:')\n",
    "print(simpsons_method(function,0,np.pi,205))\n",
    "\n",
    "sim_answer = simpsons_method(function, 0, np.pi, 205)\n",
    "sim_error = np.fabs((sim_answer-Answer))/Answer\n",
    "\n",
    "print('\\tError = %.2e'  %sim_error)\n",
    "print('\\tAmount of Intervals: 205')\n",
    "\n",
    "\n",
    "print(\"\\nRomberg Solution:\")\n",
    "\n",
    "tolerance = 1.0e-6\n",
    "\n",
    "#RI = romberg_integration(function, 0, np.pi, tolerance)\n",
    "#print(RI)\n",
    "#print(f'Tolerance: %.2e' %tolerance)"
   ]
  },
  {
   "cell_type": "markdown",
   "metadata": {},
   "source": [
    "### Not sure why my Romberg solution, at 1.0e-6 causes it to take so long to compute \n",
    "\n",
    "The process is faster if the tolerance is within e-4 \n",
    "\n",
    "See example below: "
   ]
  },
  {
   "cell_type": "code",
   "execution_count": null,
   "metadata": {},
   "outputs": [],
   "source": [
    "print(\"\\nRomberg Solution:\")\n",
    "\n",
    "tolerance = 1.0e-4\n",
    "\n",
    "RI = romberg_integration(function, 0, np.pi, tolerance)\n",
    "print(RI)\n",
    "print(f'Tolerance: %.2e' %tolerance)"
   ]
  }
 ],
 "metadata": {
  "kernelspec": {
   "display_name": "Python 3",
   "language": "python",
   "name": "python3"
  },
  "language_info": {
   "codemirror_mode": {
    "name": "ipython",
    "version": 3
   },
   "file_extension": ".py",
   "mimetype": "text/x-python",
   "name": "python",
   "nbconvert_exporter": "python",
   "pygments_lexer": "ipython3",
   "version": "3.8.3"
  }
 },
 "nbformat": 4,
 "nbformat_minor": 4
}
