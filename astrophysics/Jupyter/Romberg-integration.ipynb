{
 "cells": [
  {
   "cell_type": "markdown",
   "metadata": {},
   "source": [
    "# Define the Roberg Integration Core"
   ]
  },
  {
   "cell_type": "code",
   "execution_count": 1,
   "metadata": {},
   "outputs": [],
   "source": [
    "def romberg_core(f,a,b,i): \n",
    "    \n",
    "    #we need the difference b-a \n",
    "    h = b-a \n",
    "    \n",
    "    #and the increment between nnew function evaluatoins\n",
    "    dh = h/2.**(i)\n",
    "    \n",
    "    #we need the cofactor \n",
    "    K = h/2.**(i+1)  # in notes h assumed to be 1, is missing h \n",
    "    \n",
    "    #and the function evaluations \n",
    "    M = 0 \n",
    "    for j in range(2**i): \n",
    "        M += f(a + 0.5*dh + j*dh)\n",
    "        \n",
    "    #return the answer\n",
    "    return K*M "
   ]
  },
  {
   "cell_type": "markdown",
   "metadata": {},
   "source": [
    "# Question \n",
    "\n",
    "Why does the above work? \n",
    "When I do the math comparison the K value should not have the value of h, but here it does.. \n",
    "\n",
    "# Answer\n",
    "typo he is missing a value of h in the notes \n"
   ]
  },
  {
   "cell_type": "code",
   "execution_count": 5,
   "metadata": {},
   "outputs": [],
   "source": [
    "def romberg_integration(f,a,b,tol):\n",
    "    \n",
    "    #define an iteration variable \n",
    "    i = 0 \n",
    "    \n",
    "    #define a maximum number of iterations\n",
    "    imax = 1000\n",
    "    \n",
    "    #define an error estimate, set to a large value \n",
    "    delta = 100.0*np.fabs(tol)\n",
    "    \n",
    "    #set an array of integral answers \n",
    "    I  = np.zeros(imax, dtype=float)\n",
    "    \n",
    "    #get the zeroth romberg iteration\n",
    "    I[0] = 0.5*(b-a)*(f(a)+f(b))\n",
    "    \n",
    "    #iterate by 1 \n",
    "    i += 1 \n",
    "    \n",
    "    while (delta>tol): \n",
    "        \n",
    "        #find this romberg iteration \n",
    "        I[i] = 0.5*I[i-1] + romberg_core(f,a,b,i)\n",
    "        \n",
    "        #compute the new fractional error estimate \n",
    "        delta = np.fabs( I[i]- I[i-1]/I[i] )\n",
    "        \n",
    "        print(i,I[i],I[i-1],delta)\n",
    "        \n",
    "        if delta>tol: \n",
    "            \n",
    "            #iterate \n",
    "            i += 1 \n",
    "            \n",
    "            #if we've reached the max, iterations \n",
    "            \n",
    "            if i>imax: \n",
    "                print(\"Max iterations reached.\")\n",
    "                raise StopIteration('Stopping iterations after', i )\n",
    "                \n",
    "        return I[i]"
   ]
  }
 ],
 "metadata": {
  "kernelspec": {
   "display_name": "Python 3",
   "language": "python",
   "name": "python3"
  },
  "language_info": {
   "codemirror_mode": {
    "name": "ipython",
    "version": 3
   },
   "file_extension": ".py",
   "mimetype": "text/x-python",
   "name": "python",
   "nbconvert_exporter": "python",
   "pygments_lexer": "ipython3",
   "version": "3.8.3"
  }
 },
 "nbformat": 4,
 "nbformat_minor": 4
}
