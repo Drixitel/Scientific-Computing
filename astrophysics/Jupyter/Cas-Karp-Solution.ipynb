{
 "cells": [
  {
   "cell_type": "code",
   "execution_count": 1,
   "metadata": {},
   "outputs": [],
   "source": [
    "%matplotlib inline \n",
    "import matplotlib.pyplot as plt \n",
    "import numpy as np"
   ]
  },
  {
   "cell_type": "markdown",
   "metadata": {},
   "source": [
    "## this is a program that solved the wave equation\n",
    "## as a coupled set of ODEs \n",
    "# <span style = \"color: red\" >  Need to go through the this code once more </span>"
   ]
  },
  {
   "cell_type": "markdown",
   "metadata": {},
   "source": [
    "# Define a couple set of ODEs to integrate "
   ]
  },
  {
   "cell_type": "code",
   "execution_count": 2,
   "metadata": {},
   "outputs": [],
   "source": [
    "def dfdx(x,f):\n",
    "    '''From what I can tell this only arranges the values'''\n",
    "    \n",
    "    \n",
    "    #d2y/dx2 = -y\n",
    "    #define : \n",
    "    \n",
    "    # y = f[0]\n",
    "    # dy/dx = z \n",
    "    # z = f[1]\n",
    "    \n",
    "    y = f[0]\n",
    "    z = f[1]\n",
    "    \n",
    "    #return derivatives \n",
    "    dydx = np.zeros_like(f) #will give the same shape as the passed array \n",
    "    \n",
    "    #x = [a,b,c] then np.zeros_like(x)= [0,0,]\n",
    "    \n",
    "    dydx[0] = z\n",
    "    dydx[1] = -1*y\n",
    "    \n",
    "    return dydx "
   ]
  },
  {
   "cell_type": "markdown",
   "metadata": {},
   "source": [
    "# Define the core of the Cash karp method "
   ]
  },
  {
   "cell_type": "code",
   "execution_count": 5,
   "metadata": {},
   "outputs": [],
   "source": [
    "def cash_karp_core_mv(x_i,y_i,nv,h,f): \n",
    "    \n",
    "    #cash karp is defined in terms \n",
    "    #of weighting variables \n",
    "    \n",
    "    ni  = 7\n",
    "    nj  = 6 \n",
    "    ci  = np.zeros(ni)\n",
    "    aij = np.zeros( (ni,nj) )\n",
    "    bi  = np.zeros(ni)\n",
    "    bis = np.zeros(ni)\n",
    "    \n",
    "    #input values for ci, aij,bi,bis\n",
    "    \n",
    "    ci[2] = 1./5.\n",
    "    ci[3] = 3./10.\n",
    "    ci[4] = 3./5.\n",
    "    ci[5] = 1.\n",
    "    ci[6] = 7./8.\n",
    "    \n",
    "    #j = 1 \n",
    "    aij[2,1] = 1./5.\n",
    "    aij[3,1] = 3./40.\n",
    "    aij[4,1] = 3./10.\n",
    "    aij[5,1] = -11./54.\n",
    "    aij[6,1] = 1631./55296.\n",
    "    \n",
    "    #j = 2 \n",
    "    aij[3,2] = 9./40.\n",
    "    aij[4,2] = -9./10.\n",
    "    aij[5,2] = 5./2.\n",
    "    aij[6,2] = 175./512.\n",
    "    \n",
    "    #j = 4 \n",
    "    aij[5,4] = 35./27.\n",
    "    aij[6,4] = 44275./110592.\n",
    "    \n",
    "    #j =  5\n",
    "    aij[6,5] = 253./4096.\n",
    "    \n",
    "    #bi \n",
    "    bi[1] = 37./378.\n",
    "    bi[2] = 0.0\n",
    "    bi[3] = 250./621.\n",
    "    bi[4] = 125./594.\n",
    "    bi[5] = 0.0\n",
    "    bi[6] = 512./1771.\n",
    "    \n",
    "    #bis \n",
    "    bis[1] = 2825./27648.\n",
    "    bis[2] = 0.0\n",
    "    bis[3] = 18575./48384.\n",
    "    bis[4] = 13525./55296.\n",
    "    bis[5] = 277./14336.\n",
    "    bis[6] = 1./4.\n",
    "    \n",
    "    #define the k array\n",
    "    ki = np.zeros((ni,nv))\n",
    "    \n",
    "    #compute ki \n",
    "    for i in range(1, ni): \n",
    "        #compute xn+1 for i \n",
    "        xn = x_i \n",
    "        for j in range (1, i + 1): \n",
    "            xn += ci[j]*h\n",
    "            \n",
    "        #compute themp y \n",
    "        yn = y_i.copy()\n",
    "        for j in range(1,i): \n",
    "            yn += aij[i,j]*ki[j,:]\n",
    "            \n",
    "        #get k \n",
    "        ki[i,:] = h*f(xn,yn)\n",
    "    #get ynpo, ynpo* \n",
    "    ynpo = y_i.copy()\n",
    "    ynpos = y_i.copy()\n",
    "    \n",
    "    #print ('ni = ', ni, ynpo, ynpos)\n",
    "    \n",
    "    for i in range(1,ni):\n",
    "        ynpo += bi[i] *ki[i,:]\n",
    "        ynpos += bis[i] * ki[i,:]\n",
    "        \n",
    "        #print(i, ynpo[0], ynpos[0])\n",
    "        #print(i,ynpo[0], ynpos[0], bi[i]*ki[i,0],bis[i], *ki[i,0])\n",
    "        \n",
    "    #get error \n",
    "    Delta = np.fabs(ynpo - ynpos)\n",
    "    \n",
    "    #print('INSIDE Delta', Delta, ki[:,0], ynpo, ynpos)\n",
    "    \n",
    "    #return new y and delta \n",
    "    return ynpo, Delta \n",
    "    "
   ]
  },
  {
   "cell_type": "markdown",
   "metadata": {},
   "source": [
    "# Define an adaptive step size driver for CK "
   ]
  },
  {
   "cell_type": "code",
   "execution_count": 6,
   "metadata": {},
   "outputs": [],
   "source": [
    "def cash_karp_mv_ad(dfdx, x_i, y_i, nv, h, tol): \n",
    "    \n",
    "    #given a step we will see to adjust, or take the same step \n",
    "    #notice, takes in y_i array and sent to the core as yi and used to return y and y* \n",
    "    \n",
    "    \n",
    "    \n",
    "    \n",
    "    #define safety scale \n",
    "    SAFETY    = 0.9                      #satisfies the error tolerance, smaller\n",
    "    H_NEW_FAC = 2.0                      #larger \n",
    "    \n",
    "    #set a max number of iterations \n",
    "    imax = 1_000\n",
    "    \n",
    "    #set an iteratoin variable \n",
    "    i = 0 \n",
    "    \n",
    "    #create an error \n",
    "    Delta = np.full(nv,2*tol)          #first position: Shape (n)= [0,..,n] (x,y) = x by y array 2nd pos: fill value \n",
    "                                       #Delta = [2*tol,2*tol,2*tol ..., 2*tol] nv-amount of elements \n",
    "\n",
    "    \n",
    "    #remember the step \n",
    "    h_step = h                         #actual step \n",
    "    \n",
    "    \n",
    "    #adjust step \n",
    "    while (Delta.max()/tol > 1.0):     #.max() will pull the largest value in the the array Delta \n",
    "        \n",
    "        \n",
    "        #estimate our error by taking one step of size h\n",
    "                \n",
    "        y_ipo, Delta = cash_karp_core_mv(x_i, y_i, nv, h_step, dfdx) #fist large step from the end of the inverval \n",
    "        \n",
    "       \n",
    "        \n",
    "        #if the error is too large, take a smaller step \n",
    "        \n",
    "        if Delta.max()/tol > 1.0:\n",
    "            \n",
    "            #our error is too large, decrease the step \n",
    "            h_step *= SAFETY * (Delta.max()/tol)**(-0.25)\n",
    "            \n",
    "        #check iteration \n",
    "        if i >= imax: \n",
    "            print(\"Too many iterations in rk4_mv_ad()\")\n",
    "            raise StopIteration('Ending after i = ', i )\n",
    "            \n",
    "        #if not iterate \n",
    "        i += 1 \n",
    "        \n",
    "        \n",
    "        \n",
    "        \n",
    "    #next time, try to take a bigger step \n",
    "    h_new = np.fmin(h_step * (Delta.max()/tol)**(-0.9), h_step*H_NEW_FAC) #.fmin compars two arguments and returns min value\n",
    "    \n",
    "    \n",
    "    #RETURN the answer, a new step, and the step we actually took \n",
    "    #h_step still happened, but we modified it later \n",
    "    #h_step became h_new \n",
    "    #y is the new value to use \n",
    "\n",
    "    return y_ipo , h_new, h_step\n",
    "\n",
    "\n"
   ]
  },
  {
   "cell_type": "markdown",
   "metadata": {},
   "source": [
    "# Define a wrapper for CK "
   ]
  },
  {
   "cell_type": "code",
   "execution_count": 9,
   "metadata": {},
   "outputs": [],
   "source": [
    "def cash_karp_mv(dfdx, a, b, y_a, tol, verbose = False):  \n",
    "    \n",
    "    \n",
    "    #dfdx is the derivative wrt x \n",
    "    #a is the lower bound \n",
    "    #b is the upper \n",
    "    #y_a are the boundary conditions at a \n",
    "    #tol is the tolerance for the integrating y \n",
    "    \n",
    "    # define our starting step \n",
    "    xi = a \n",
    "    yi = y_a.copy()\n",
    "    \n",
    "    #an initial step size == make very small\n",
    "    h = 1.0e-4 * (b-a)\n",
    "    \n",
    "    #set a maximum number of iterations \n",
    "    imax = 1_000\n",
    "    \n",
    "    #set a iteration variable \n",
    "    i = 0 \n",
    "    \n",
    "    #set a number of coupled odes to the \n",
    "    #size of y_a \n",
    "    \n",
    "    nv = len(y_a)\n",
    "    \n",
    "    \n",
    "    #set the inital conditions, what is np.ful \n",
    "    x = np.full(1,a) \n",
    "    y = np.full((1, nv), y_a)\n",
    "    \n",
    "    #set a flag \n",
    "    flag = 1\n",
    "    \n",
    "    #loop untl we reach the right side \n",
    "    while flag: \n",
    "        \n",
    "        #calcullate y_i+1 !!\n",
    "        y_ipo, h_new, h_step = cash_karp_mv_ad(dfdx, xi, yi, nv, h, tol) #return new y, h_new, step taken h_step \n",
    "        \n",
    "        #update the step \n",
    "        h = h_new\n",
    "        \n",
    "        #prevent an overshot \n",
    "        if xi + h_step > b:\n",
    "            \n",
    "            #take a smaller step \n",
    "            h = b-xi \n",
    "            \n",
    "            #recalculate y_i+1\n",
    "            \n",
    "            y_ipo, h_new, h_step = cash_karp_mv_ad(dfdx,xi,yi,nv,h,tol)\n",
    "            \n",
    "            #break\n",
    "            flag = False \n",
    "            \n",
    "        #update values \n",
    "        xi += h_step\n",
    "        yi = y_ipo.copy()\n",
    "    \n",
    "        #add the step to the arrays \n",
    "    \n",
    "        x = np.append(x,xi)\n",
    "        \n",
    "    \n",
    "        y_ipo = np.zeros((len(x),nv))\n",
    "        \n",
    "        y_ipo[0:len(x)-1,:] = y[:] \n",
    "        \n",
    "        y_ipo[-1,:] = yi[:]\n",
    "        \n",
    "        del y \n",
    "        \n",
    "        y = y_ipo\n",
    "    \n",
    "        #prevent too many iterations \n",
    "        if i >= imax: \n",
    "            print(\"Max iterations reached\")\n",
    "            raise StopIteration(\"Iteration number = \", i )\n",
    "        \n",
    "        \n",
    "        #iterate \n",
    "        i += 1 \n",
    "        \n",
    "        if verbose: \n",
    "    \n",
    "            #output some info \n",
    "            s = 'i=  %3d \\t x = %9.8f \\t h = %9.8f \\t b = %9.8f' % (i, xi, h_step, b)\n",
    "            print(s)\n",
    "    \n",
    "        #break if new xi is ==b \n",
    "        if xi == b: \n",
    "            flag = False \n",
    "            \n",
    "    return x, y\n",
    "        \n",
    "    "
   ]
  },
  {
   "cell_type": "code",
   "execution_count": 12,
   "metadata": {},
   "outputs": [
    {
     "data": {
      "text/plain": [
       "<matplotlib.legend.Legend at 0x1bb3dfc7640>"
      ]
     },
     "execution_count": 12,
     "metadata": {},
     "output_type": "execute_result"
    },
    {
     "data": {
      "image/png": "[encoded data removed]",
      "text/plain": [
       "<Figure size 432x288 with 1 Axes>"
      ]
     },
     "metadata": {
      "needs_background": "light"
     },
     "output_type": "display_data"
    }
   ],
   "source": [
    "a = 0.0 \n",
    "b = 2.0*np.pi\n",
    "y_0 = np.zeros(2)\n",
    "y_0[0] = 0.0\n",
    "y_0[1] = 1.0\n",
    "nv = 2\n",
    "\n",
    "tolerance = 1.0e-6\n",
    "\n",
    "x,y = cash_karp_mv(dfdx, a,b,y_0,tolerance, verbose = False)\n",
    "\n",
    "\n",
    "plt.plot(x,y[:,0], 'o', label =\"y(x)\")\n",
    "plt.plot(x,y[:,1], 'o', label =\"z(x)\")\n",
    "\n",
    "plt.plot(x, np.sin(x), label ='sin(x)')\n",
    "plt.plot(x, np.cos(x), label ='cos(x)')\n",
    "\n",
    "plt.xlim([0,2*np.pi])\n",
    "plt.ylim([-1.2,1.2])\n",
    "\n",
    "plt.legend(frameon = False)"
   ]
  },
  {
   "cell_type": "code",
   "execution_count": 14,
   "metadata": {},
   "outputs": [
    {
     "data": {
      "text/plain": [
       "<matplotlib.legend.Legend at 0x1bb3a5887f0>"
      ]
     },
     "execution_count": 14,
     "metadata": {},
     "output_type": "execute_result"
    },
    {
     "data": {
      "image/png": "[encoded data removed]",
      "text/plain": [
       "<Figure size 432x288 with 1 Axes>"
      ]
     },
     "metadata": {
      "needs_background": "light"
     },
     "output_type": "display_data"
    }
   ],
   "source": [
    "plt.plot(x,y[:,0]-np.sin(x), label = 'y(x) Error')\n",
    "plt.plot(x,y[:,1]-np.cos(x), label = 'z(x) Error')\n",
    "plt.legend()"
   ]
  }
 ],
 "metadata": {
  "kernelspec": {
   "display_name": ".venv",
   "language": "python",
   "name": "python3"
  },
  "language_info": {
   "codemirror_mode": {
    "name": "ipython",
    "version": 3
   },
   "file_extension": ".py",
   "mimetype": "text/x-python",
   "name": "python",
   "nbconvert_exporter": "python",
   "pygments_lexer": "ipython3",
   "version": "3.8.10 (default, Jun 22 2022, 20:18:18) \n[GCC 9.4.0]"
  },
  "vscode": {
   "interpreter": {
    "hash": "bdc18c2db2d00538cf7ff078256c91737b482a908b73eb2e42b28c9e4dea456d"
   }
  }
 },
 "nbformat": 4,
 "nbformat_minor": 4
}
