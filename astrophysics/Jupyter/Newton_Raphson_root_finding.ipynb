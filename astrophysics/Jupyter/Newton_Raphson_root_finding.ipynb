{
 "cells": [
  {
   "cell_type": "code",
   "execution_count": 1,
   "metadata": {},
   "outputs": [],
   "source": [
    "%matplotlib  inline  \n",
    "import numpy as np \n",
    "import matplotlib.pyplot as plt"
   ]
  },
  {
   "cell_type": "code",
   "execution_count": 3,
   "metadata": {},
   "outputs": [],
   "source": [
    "def given_function(x): #f(x) takes a set of values \n",
    "    a = 1.01\n",
    "    b = -3.04\n",
    "    c = 2.07 \n",
    "    return a*x**2 + b*x + c #returns a properformat "
   ]
  },
  {
   "cell_type": "code",
   "execution_count": 4,
   "metadata": {},
   "outputs": [],
   "source": [
    "def derivative_for_root(x):   # the derivative of our function, we assign this \n",
    "    a = 1.01\n",
    "    b = -3.04 \n",
    "    return 2*a*x + b         #returns a value "
   ]
  },
  {
   "cell_type": "code",
   "execution_count": 5,
   "metadata": {},
   "outputs": [],
   "source": [
    "def newtown_raphson_root_finding(f, dfdx, x_start, tol): \n",
    "    \n",
    "    #takes two functions 'given function' and 'derivative for root', a starting position and tolerance \n",
    "    \n",
    "    flag = 1 \n",
    "    \n",
    "    imax = 10_000\n",
    "    \n",
    "    i = 0 \n",
    "    \n",
    "    x_old = x_start   #reassignmend \n",
    "    x_new = 0.0       #zero? why do we choos zero as the new positions or is  this just a declaration \n",
    "    y_new = 0.0 \n",
    "    \n",
    "    while(flag): \n",
    "        x_new = x_old - f(x_old)/ dfdx(x_old)\n",
    "        \n",
    "        print(x_new, x_old, f(x_old), dfdx(x_old))\n",
    "              \n",
    "        y_new = f(x_new)\n",
    "              \n",
    "        if (np.fabs(y_new)<tol): \n",
    "              flag = 0     #stos the while loop will exit on the next iteration \n",
    "                #break will break you out of the loop entirely  \n",
    "                #but else ?? waht \n",
    "              \n",
    "        else: \n",
    "            \n",
    "            #yarr = f(x_arr)\n",
    "            #plt.plot(xarr,yarr)\n",
    "            #plt.xlim([0,1.5])\n",
    "            #plt.ylim([-0.2,2])\n",
    "            \n",
    "            #xapprox = np.linspace(x_old,x_new, 1000)\n",
    "            #yapprox = f(x_old) + dfdx(x_old)*(xapprox-x_old)\n",
    "            #plt.plot(xapprox,yapprox)\n",
    "            #plt.show()\n",
    "\n",
    "            x_old = x_new\n",
    "            i += 1 \n",
    "              \n",
    "        if i >= imax : \n",
    "            print('Max iterations reached.')\n",
    "            raise StopIteration(\"Stopping iterations after\", i )\n",
    "              \n",
    "    print(f\"iterations:{i}\")    \n",
    "    return x_new"
   ]
  },
  {
   "cell_type": "code",
   "execution_count": 6,
   "metadata": {},
   "outputs": [
    {
     "name": "stdout",
     "output_type": "stream",
     "text": [
      "0.5 0.8024999999999998\n",
      "0.8953201970443347 0.5 0.8024999999999998 -2.0300000000000002\n",
      "1.023494648595172 0.8953201970443347 0.15784083877308386 -1.2314532019704438\n",
      "1.040556119705499 1.023494648595172 0.016592976930660974 -0.9725408098377528\n",
      "1.040869531981685 1.040556119705499 0.00029400473441354436 -0.9380766381948917\n",
      "iterations:3\n"
     ]
    }
   ],
   "source": [
    "x_start = 0.5 \n",
    "tolerance = 1.0e-6 \n",
    "\n",
    "print(x_start, given_function(x_start))\n",
    "\n",
    "x_root = newtown_raphson_root_finding(given_function, derivative_for_root,x_start,tolerance)\n",
    "\n",
    "y_root = given_function(x_root)\n",
    "\n",
    "s = 'Root found with y(%15.14fe) = %15.14fe' % (x_root, y_root)"
   ]
  },
  {
   "cell_type": "code",
   "execution_count": 7,
   "metadata": {},
   "outputs": [
    {
     "name": "stdout",
     "output_type": "stream",
     "text": [
      "0.5 0.8024999999999998\n",
      "0.8953201970443347 0.5 0.8024999999999998 -2.0300000000000002\n",
      "1.023494648595172 0.8953201970443347 0.15784083877308386 -1.2314532019704438\n",
      "1.040556119705499 1.023494648595172 0.016592976930660974 -0.9725408098377528\n",
      "1.040869531981685 1.040556119705499 0.00029400473441354436 -0.9380766381948917\n",
      "iterations:3\n"
     ]
    }
   ],
   "source": [
    "x_start = 0.5 \n",
    "tolerance = 1.0e-6 \n",
    "\n",
    "print(x_start, given_function(x_start))\n",
    "\n",
    "x_root = newtown_raphson_root_finding(given_function, derivative_for_root,x_start,tolerance)\n",
    "\n",
    "y_root = given_function(x_root)\n",
    "\n",
    "s = 'Root found with y(%f) = %f' % (x_root, y_root)"
   ]
  }
 ],
 "metadata": {
  "kernelspec": {
   "display_name": ".venv",
   "language": "python",
   "name": "python3"
  },
  "language_info": {
   "codemirror_mode": {
    "name": "ipython",
    "version": 3
   },
   "file_extension": ".py",
   "mimetype": "text/x-python",
   "name": "python",
   "nbconvert_exporter": "python",
   "pygments_lexer": "ipython3",
   "version": "3.8.10"
  },
  "vscode": {
   "interpreter": {
    "hash": "bdc18c2db2d00538cf7ff078256c91737b482a908b73eb2e42b28c9e4dea456d"
   }
  }
 },
 "nbformat": 4,
 "nbformat_minor": 4
}
