{
 "cells": [
  {
   "cell_type": "markdown",
   "metadata": {},
   "source": [
    "# Tutorial - Michelle Pichardo "
   ]
  },
  {
   "cell_type": "markdown",
   "metadata": {},
   "source": [
    "This tutorial shows the basic steps of using SEP to detect objects in an image and preform some basic photometry. \n",
    "* Photometry: \n",
    "> a branch of science that deals with measurement of the intensity of light. "
   ]
  },
  {
   "cell_type": "markdown",
   "metadata": {},
   "source": [
    "# Import Packages \n",
    "* Numpy:(Package) element-by-element operations- used for speed\n",
    "* SEP: Python lib for Source Extraction and Photometry \n",
    "> * Command-line program for segmentation and analysis of astronomical images. Reads FITS files, preofroms several tasks. \n",
    "> https://sep.readthedocs.io/en/v1.0.x/index.html\n",
    "* astropy.io:(Package) provides access to FITS files \n",
    "> * Flexible Image Transport System\n",
    "> > A portable file standard used in astronomy community to store images and tables\n",
    "* Matplotlib: Lib for creating visualizations with python\n",
    "> * rcParams: Matplotlib defines rc(runtime configuration)containing default styles for every plot element created. The configurations can be modified with the rc parameters.\n",
    "> https://www.data-blogger.com/2017/11/15/python-matplotlib-pyplot-a-perfect-combination/\n",
    "* %matplotlib inline: reders the figure in a notebook instead of displaying a figure. \n"
   ]
  },
  {
   "cell_type": "code",
   "execution_count": null,
   "metadata": {},
   "outputs": [],
   "source": [
    "#packages are used to read the test image\n",
    "#and display plots \n",
    "\n",
    "import numpy as np \n",
    "import sep \n",
    "from astropy.io import fits\n",
    "import matplotlib.pyplot as plt\n",
    "from matplotlib import rcParams \n",
    "%matplotlib inline\n",
    "\n",
    "\n",
    "#from astropy.io.fits import getdata (not used)\n",
    "\n",
    "\n",
    "#Setting the parameters for all future figures: \n",
    "#selecting figure function and figsize argument \n",
    "#figsize takes(float,float)=(width,height) in inches \n",
    "#w= 10.in h=8.in \n",
    "#default was: 6.4,4.8 \n",
    "\n",
    "\n",
    "rcParams['figure.figsize'] = [10.,8.] "
   ]
  },
  {
   "cell_type": "markdown",
   "metadata": {},
   "source": [
    "# Read an example image from a FITS file and display it\n",
    "\n",
    "* Verify the image is 256 x 256 pixels \n",
    "* More info: https://docs.astropy.org/en/stable/generated/examples/io/plot_fits-image.html#sphx-glr-generated-examples-io-plot-fits-image-py\n",
    "* ext = 0 \n",
    "> * This argument calls the header\n",
    "> * Without other argumentst it would also only call the header \n",
    "* fits.getdata: \n",
    "> * returns: array, record array or groups of data object\n",
    "> https://docs.astropy.org/en/stable/io/fits/api/files.html#astropy.io.fits.getdata"
   ]
  },
  {
   "cell_type": "code",
   "execution_count": null,
   "metadata": {},
   "outputs": [],
   "source": [
    "data = fits.getdata('image.fits', ext =0)\n",
    "\n",
    "#verify the shape: \n",
    "print(\"Our array is a 2-D array with the following elements: \")\n",
    "print(data.shape)\n",
    "\n",
    "#checking type: \n",
    "#print(type(data))\n",
    "#print(data[0])"
   ]
  },
  {
   "cell_type": "markdown",
   "metadata": {},
   "source": [
    "# Show the image \n",
    "* np.mean and np.std: \n",
    "> Calls the mean value and standard div from a set of values \n",
    "* plt.imshow: \n",
    "> Functions with certain parameters,(X, interpolatoin, cmap, vmin, vmax, origin\n",
    "> https://www.geeksforgeeks.org/matplotlib-pyplot-imshow-in-python/\n",
    "* X: is the data of the image \n",
    "* cmap: is a color map instance (selection of colors) \n",
    "> https://matplotlib.org/3.1.0/tutorials/colors/colormaps.html\n",
    "* vmin,vmax: the color bar range \n",
    "* interpolation: interpolation used to display an image \n",
    "* origin: place the [0,0] index in a corner of axes "
   ]
  },
  {
   "cell_type": "code",
   "execution_count": null,
   "metadata": {},
   "outputs": [],
   "source": [
    "#check the mean and std values \n",
    "print(np.mean(data))\n",
    "print(np.std(data))"
   ]
  },
  {
   "cell_type": "code",
   "execution_count": null,
   "metadata": {},
   "outputs": [],
   "source": [
    "#Assign the mean and standard deviation to variables \n",
    "m, s = np.mean(data), np.std(data)\n",
    "\n",
    "plt.imshow(data, interpolation='nearest', cmap='gray', \n",
    "           vmin=m-s, vmax=m+s, origin='lower')\n",
    "plt.colorbar()\n",
    "plt.savefig('project_figure1.png', bbox_inches = 'tight', dpi=300)"
   ]
  },
  {
   "cell_type": "markdown",
   "metadata": {},
   "source": [
    "# Background subtraction \n",
    "* This step is needed before sources can be detected \n",
    "* In SEP, background estimation and source detection are two seperate steps \n",
    "* sep.background: \n",
    "> Representation of spatially variable image background and noise \n",
    "> arguments(data)- 'not the same as our data' is a 2-d array\n",
    "> methods: background, background rms, subfrom \n",
    "> https://sep.readthedocs.io/en/v1.0.x/api/sep.Background.html\n",
    "> returns: rms, an array with same dimensions as original "
   ]
  },
  {
   "cell_type": "code",
   "execution_count": null,
   "metadata": {},
   "outputs": [],
   "source": [
    "# measure a spatially varying background on the image \n",
    "\n",
    "#assign the background data to a variable \n",
    "bkg = sep.Background(data)"
   ]
  },
  {
   "cell_type": "markdown",
   "metadata": {},
   "source": [
    "### This returns an Background object that holds information on the spatially varying background and spatially varying background noise level. \n",
    "\n",
    "<span style = 'color:red'> The Values do not match the Tutorial </span>\n",
    "* Confirmed by prof, this is ok "
   ]
  },
  {
   "cell_type": "code",
   "execution_count": null,
   "metadata": {},
   "outputs": [],
   "source": [
    "#get a 'global' mean and noise of the image backgroung: \n",
    "\n",
    "# print the global background level \n",
    "print(bkg.globalback) \n",
    "\n",
    "# print the global background Root Mean Square \n",
    "print(bkg.globalrms)\n"
   ]
  },
  {
   "cell_type": "code",
   "execution_count": null,
   "metadata": {},
   "outputs": [],
   "source": [
    "# evaluate background as 2-d array, same size as original image\n",
    "\n",
    "#set background data to a 2-d array \n",
    "bkg_image = np.array(bkg)"
   ]
  },
  {
   "cell_type": "code",
   "execution_count": null,
   "metadata": {},
   "outputs": [],
   "source": [
    "# show the background\n",
    "\n",
    "plt.imshow(bkg_image, interpolation='nearest', \n",
    "           cmap='gray', origin='lower')\n",
    "plt.colorbar()\n",
    "plt.savefig('project_figure2.png', bbox_inches = 'tight', dpi=300)"
   ]
  },
  {
   "cell_type": "code",
   "execution_count": null,
   "metadata": {},
   "outputs": [],
   "source": [
    "# evaluate the background noise as 2-d array, same size as original image \n",
    "\n",
    "#Modify the background data to be the rms of the background (noise) \n",
    "bkg_rms = bkg.rms()"
   ]
  },
  {
   "cell_type": "code",
   "execution_count": null,
   "metadata": {
    "scrolled": true
   },
   "outputs": [],
   "source": [
    "#show the noise (bkg_rms)\n",
    "\n",
    "plt.imshow(bkg_rms, interpolation='nearest', \n",
    "           cmap='gray', origin='lower')\n",
    "plt.colorbar()\n",
    "plt.savefig('project_figure3.png', bbox_inches = 'tight', dpi=300)"
   ]
  },
  {
   "cell_type": "code",
   "execution_count": null,
   "metadata": {},
   "outputs": [],
   "source": [
    "# subtract the background \n",
    "#data(total info) - bkg(noise)\n",
    "\n",
    "data_sub = data - bkg"
   ]
  },
  {
   "cell_type": "markdown",
   "metadata": {},
   "source": [
    "# Object detection \n",
    "Now that we've subtracted the background, we can run object detection on the background subtracted data. You can see the background noise is pretty flat. So we're setting the detection threshold to be a constant value of 1.5σ  where σ is the global background RMS. "
   ]
  },
  {
   "cell_type": "markdown",
   "metadata": {},
   "source": [
    "* set.extract: \n",
    "> Extracts sources from an image \n",
    "> arguments: (data,thresh, err) \n",
    "> https://sep.readthedocs.io/en/v1.0.x/api/sep.extract.html\n",
    "* Data: 2-d array \n",
    "* Thresh: float, is the threshold value for detection. \n",
    "* err: error or variance, this can be used to specify a pixel by pixel detection threshold \n",
    "* returns: Extracted object parameters\n",
    "> Threshold at object location, err second moment errors "
   ]
  },
  {
   "cell_type": "code",
   "execution_count": null,
   "metadata": {},
   "outputs": [],
   "source": [
    "# extract data, set threshold ot 1.5 \n",
    "\n",
    "objects = sep.extract(data_sub, 1.5, err = bkg.globalrms)\n",
    "\n",
    "#view an entry and it's x,y  positions \n",
    "#print(objects[0])\n",
    "#print(objects['x'])\n",
    "#print(objects['y'])"
   ]
  },
  {
   "cell_type": "markdown",
   "metadata": {},
   "source": [
    "# Length of objects found \n",
    "<span style = 'color:red'> The Values do not match the Tutorial </span>\n",
    "* professor confirmed this is ok "
   ]
  },
  {
   "cell_type": "code",
   "execution_count": null,
   "metadata": {},
   "outputs": [],
   "source": [
    "# how many objects were detected \n",
    "\n",
    "len(objects)"
   ]
  },
  {
   "cell_type": "markdown",
   "metadata": {},
   "source": [
    "### objects['x'] and objects['y'] will give the centroid coordinates of the objects. Just to check where the detected objects are, we'll over-plot the object coordinates with some basic shape parameters on the image: "
   ]
  },
  {
   "cell_type": "markdown",
   "metadata": {},
   "source": [
    "# About the following block: \n",
    "* matplotlib.patches: \n",
    "> patches contain classes to pull from\n",
    "> https://matplotlib.org/api/patches_api.html\n",
    "> Ellipse: is a class in patches, a scale free ellipse \n",
    "* Ellipse [xy, width, hight[,angle])\n",
    "> https://matplotlib.org/api/_as_gen/matplotlib.patches.Ellipse.html#matplotlib.patches.Ellipse\n",
    "\n",
    "* plt.subplots(): \n",
    "> Creates a figure and a set of subplots \n",
    "> * Returns: Fig: figure and ax: axes.Axes object or array of Axes objects \n",
    "> https://matplotlib.org/3.1.1/api/_as_gen/matplotlib.pyplot.subplots.html\n",
    "* Key to showing image is Axes(ax) \n",
    "> * as.imshow(): \n",
    ">> * Display data as an image, on a 2-D raster(bitmap image- ind. pixels as a square) \n",
    ">> The input is a 2D scalar daata, which will be rendered as a pseudocolor image. The number of pixels used to render an image is set by the axes size and the dpi(dots per inch) of the figure \n",
    ">> * vmin and vmax are related to the cmap (colormap) where m:mean and s:standard div"
   ]
  },
  {
   "cell_type": "code",
   "execution_count": null,
   "metadata": {},
   "outputs": [],
   "source": [
    "# import package for displaying ellipses \n",
    "from matplotlib.patches import Ellipse\n",
    "\n",
    "# plot background-subtracted image\n",
    "# define the figure and axes \n",
    "fig, ax  = plt.subplots()\n",
    "\n",
    "# define the mean and standard div values \n",
    "#from the new background without noise\n",
    "m, s = np.mean(data_sub), np.std(data_sub)\n",
    "\n",
    "\n",
    "# Display the Axes defined by our our array data_sub\n",
    "#define the color scale by using the mean and standard div \n",
    "im = ax.imshow(data_sub, interpolation='nearest', cmap='gray',\n",
    "               vmin=m-s, vmax=m+s, origin='lower')\n",
    "\n",
    "\n",
    "# plot an ellipse for each object\n",
    "for i in range(len(objects)):             #loop through [0,69-1] total of 69\n",
    "    \n",
    "    #define the ellipse \n",
    "    #xy = (x,y) takes the first elements and assigns the coordinate\n",
    "    #width= total length of the horizontal axis \n",
    "    #height = total length of the vertical\n",
    "    #angle = rotation anticolockwise\n",
    "    #facecolor= no fill\n",
    "    #edge = parimeter \n",
    "    e = Ellipse(xy=(objects['x'][i], objects['y'][i]),\n",
    "                width=6*objects['a'][i],\n",
    "                height=6*objects['b'][i],\n",
    "                angle=objects['theta'][i] * 180. / np.pi)\n",
    "    e.set_facecolor('none')\n",
    "    e.set_edgecolor('red')\n",
    "    ax.add_artist(e)\n",
    "\n",
    "plt.savefig('project_figure4.png', bbox_inches = 'tight', dpi=300)"
   ]
  },
  {
   "cell_type": "code",
   "execution_count": null,
   "metadata": {},
   "outputs": [],
   "source": [
    "# available fields \n",
    "#these are other data types within objects that we can use \n",
    "objects.dtype.names"
   ]
  },
  {
   "cell_type": "markdown",
   "metadata": {},
   "source": [
    "# Aperture Photometry \n",
    "Finally, we'll preform simple circular aperture photometry with a 3 pixel radius at the locations of the objects: \n",
    "* Convert to AB Astonomical Magnitude \n",
    "> * Unlike many other magnitude systems, it is based on flux measurements that are calibrated in absolute units, namely spectral flux densities."
   ]
  },
  {
   "cell_type": "code",
   "execution_count": null,
   "metadata": {},
   "outputs": [],
   "source": [
    "#flux, fluxerr, and flag are all 1d arrays with one entry per object\n",
    "#this computes the sum of pixels withing the given radius \n",
    "#our error or variance is Bkg (the noise) rms\n",
    "\n",
    "\n",
    "flux, fluxerr, flag = sep.sum_circle(data_sub, objects['x'], objects['y'],\n",
    "                                     3.0, err=bkg.globalrms, gain=1.0)"
   ]
  },
  {
   "cell_type": "code",
   "execution_count": null,
   "metadata": {},
   "outputs": [],
   "source": [
    "# show the first 10 objects results:\n",
    "for i in range(10):\n",
    "    print(\"object {:d}: flux = {:f} +/- {:f}\".format(i, flux[i], fluxerr[i]))"
   ]
  }
 ],
 "metadata": {
  "kernelspec": {
   "display_name": "Python 3",
   "language": "python",
   "name": "python3"
  },
  "language_info": {
   "codemirror_mode": {
    "name": "ipython",
    "version": 3
   },
   "file_extension": ".py",
   "mimetype": "text/x-python",
   "name": "python",
   "nbconvert_exporter": "python",
   "pygments_lexer": "ipython3",
   "version": "3.6.12"
  }
 },
 "nbformat": 4,
 "nbformat_minor": 4
}
