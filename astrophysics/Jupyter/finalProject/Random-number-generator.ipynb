{
 "cells": [
  {
   "cell_type": "markdown",
   "metadata": {},
   "source": [
    "# Use a Rng to simulate a simple Gaussian Process"
   ]
  },
  {
   "cell_type": "code",
   "execution_count": 13,
   "metadata": {},
   "outputs": [],
   "source": [
    "%matplotlib inline\n",
    "import matplotlib.pyplot as plt \n",
    "import numpy as np"
   ]
  },
  {
   "cell_type": "markdown",
   "metadata": {},
   "source": []
  },
  {
   "cell_type": "markdown",
   "metadata": {},
   "source": [
    "n_samples = 10_000_000 #making a hystogram / pulling 10k for sample \n",
    "#the higher the sample intake the smoother the image \n",
    "n_bins    = 100\n",
    "sigma     = 1.0 #width \n",
    "mu        = 0.0 #mean "
   ]
  },
  {
   "cell_type": "code",
   "execution_count": 14,
   "metadata": {},
   "outputs": [],
   "source": [
    "n_samples = 10000000\n",
    "#making a hystogram / pulling 10k for sample \n",
    "#the higher the sample intake the smoother the image \n",
    "n_bins    = 50\n",
    "sigma     = 2.0 #width \n",
    "mu        = 3.0 #mean \n",
    "\n",
    "#adjusting the graph to be centered around mu and sigma \n",
    "#allows us to adjust sigma and mu and update the graph "
   ]
  },
  {
   "cell_type": "code",
   "execution_count": 15,
   "metadata": {},
   "outputs": [
    {
     "name": "stdout",
     "output_type": "stream",
     "text": [
      "-7.44784544428\n",
      "13.4591596675\n",
      "[ 2.52082956  5.81032138  2.99906939  4.71694156  1.59076556  3.18408702\n",
      "  3.56008676  2.94325446  3.41339047  1.94341243  6.47007289  3.54592294\n",
      "  2.89392934  3.77102962  3.65414751  1.45624441  1.77796767  3.93228617\n",
      "  1.13364975 -2.54282231  0.97480438  4.25379429  0.05163559  3.42067205\n",
      "  5.86190845  0.51732905  3.28325799  0.40707551  3.11805297  4.48432315\n",
      "  2.81078096  4.47508717  3.0691126   2.35306025  5.28559903  3.16804716\n",
      "  2.65353775  2.42899652  4.90679866  3.36610222  3.87227562  2.30917105\n",
      "  3.90600045  2.82776488  3.69533209  2.99757702  0.79163828  6.23652264\n",
      " -0.37531627  7.20122635  8.39810655  3.30467888  2.8671176   2.9548013\n",
      "  3.40173053 -1.36600381  2.18460326  6.87148189  3.26214747 -1.06048575\n",
      "  2.31798699  3.76662541  0.75808897  3.18130859  4.81895879 -0.58133611\n",
      "  0.68726425  5.15442096  2.57748497  2.1236695   3.99048986  1.25431088\n",
      "  5.70911668  4.60495323 -0.45963115  2.47663811  2.45272328  2.40902086\n",
      "  1.43541373  2.3405784   0.70106503  0.9317908   1.32024954  2.42004756\n",
      "  4.59166067  1.57861212  2.10848139  3.41206259  5.08526592  3.738607\n",
      "  1.56812666  2.04207244  2.66788469  3.79632311  4.48303262  2.12616708\n",
      "  0.58303324  0.68501576  1.82976115  2.0731061 ]\n"
     ]
    }
   ],
   "source": [
    "x = np.random.normal(mu, sigma, n_samples) #is an array/normal = Gaussian\n",
    "print(x.min())\n",
    "print(x.max())\n",
    "print(x[0:100])\n",
    "#  x is the standard deviations about zero\n",
    "\n"
   ]
  },
  {
   "cell_type": "code",
   "execution_count": 16,
   "metadata": {},
   "outputs": [],
   "source": [
    "def gaussian(x, mu, sigma): \n",
    "    return 1./(2.0*np.pi*sigma**2)**0.5 * np.exp(-0.5*((x-mu)/sigma)**2)\n",
    "\n",
    "#returns a normalized gaussian the cofactor is all before np.exp"
   ]
  },
  {
   "cell_type": "code",
   "execution_count": 17,
   "metadata": {},
   "outputs": [
    {
     "data": {
      "image/png": "[encoded data removed]",
      "text/plain": [
       "<Figure size 504x504 with 1 Axes>"
      ]
     },
     "metadata": {
      "needs_background": "light"
     },
     "output_type": "display_data"
    }
   ],
   "source": [
    "#plot the histogram \n",
    "\n",
    "fig = plt.figure(figsize =(7,7))\n",
    "y_hist, x_hist, ignored = plt.hist(x, bins = n_bins, range =[-5*sigma+mu,5*sigma+mu], density = True)\n",
    "#ignored is additial info we do not need \n",
    "#want to have is centered on mu\n",
    "#density normalizes the function so adding all values results in 1 \n",
    "\n",
    "xx = np.linspace(-5.0*sigma+mu,5.0*sigma+mu,1000)\n",
    "plt.plot(xx, gaussian(xx,mu,sigma), color = 'red')\n",
    "plt.ylim([0,0.5])\n",
    "plt.xlim([-5*sigma+mu,5*sigma+mu])\n",
    "plt.gca().set_aspect(20)\n",
    "plt.xlabel('x')\n",
    "plt.ylabel('y(x)')\n",
    "plt.show()"
   ]
  },
  {
   "cell_type": "code",
   "execution_count": null,
   "metadata": {},
   "outputs": [],
   "source": []
  }
 ],
 "metadata": {
  "kernelspec": {
   "display_name": "Python 3",
   "language": "python",
   "name": "python3"
  },
  "language_info": {
   "codemirror_mode": {
    "name": "ipython",
    "version": 3
   },
   "file_extension": ".py",
   "mimetype": "text/x-python",
   "name": "python",
   "nbconvert_exporter": "python",
   "pygments_lexer": "ipython3",
   "version": "3.6.12"
  }
 },
 "nbformat": 4,
 "nbformat_minor": 4
}
