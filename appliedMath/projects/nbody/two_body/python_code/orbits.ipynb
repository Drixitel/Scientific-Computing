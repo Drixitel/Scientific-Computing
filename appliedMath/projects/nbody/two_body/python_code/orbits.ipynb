{
 "cells": [
  {
   "cell_type": "code",
   "execution_count": 2,
   "metadata": {},
   "outputs": [],
   "source": [
    "import numpy as np"
   ]
  },
  {
   "cell_type": "code",
   "execution_count": 7,
   "metadata": {},
   "outputs": [],
   "source": [
    "\"\"\"\n",
    "Utility module \n",
    "\"\"\"\n",
    "\n",
    "fp = np.double(15)"
   ]
  },
  {
   "cell_type": "code",
   "execution_count": 34,
   "metadata": {},
   "outputs": [
    {
     "name": "stdout",
     "output_type": "stream",
     "text": [
      "[[3]\n",
      " [8]]\n",
      "[[3 8]]\n"
     ]
    }
   ],
   "source": [
    "\"\"\"\n",
    "Initialize \n",
    "\"\"\"\n",
    "\n",
    "# using arrays for matrices \n",
    "mass = np.array([[1],[2]])\n",
    "mass2 = np.array([[3],[4]])\n",
    "mass3 = mass * mass2\n",
    "print(mass3)\n",
    "print(np.transpose(mass3))"
   ]
  },
  {
   "cell_type": "code",
   "execution_count": 8,
   "metadata": {},
   "outputs": [
    {
     "data": {
      "text/plain": [
       "'\\nTake step \\n'"
      ]
     },
     "execution_count": 8,
     "metadata": {},
     "output_type": "execute_result"
    }
   ],
   "source": [
    "\"\"\"\n",
    "Take step \n",
    "\"\"\"\n",
    "\n",
    "def take_step(dt,mass,pos_old,mom_old,pos_new,mom_new):\n",
    "\n",
    "    return pos_new, mom_new\n",
    "\n",
    "def compute_acceleration(mass,pos):\n",
    "    n = 2\n",
    "    dist = np.sqrt( np.abs())\n",
    "    return acc"
   ]
  }
 ],
 "metadata": {
  "kernelspec": {
   "display_name": ".venv",
   "language": "python",
   "name": "python3"
  },
  "language_info": {
   "codemirror_mode": {
    "name": "ipython",
    "version": 3
   },
   "file_extension": ".py",
   "mimetype": "text/x-python",
   "name": "python",
   "nbconvert_exporter": "python",
   "pygments_lexer": "ipython3",
   "version": "3.8.10 (default, Jun 22 2022, 20:18:18) \n[GCC 9.4.0]"
  },
  "orig_nbformat": 4,
  "vscode": {
   "interpreter": {
    "hash": "bdc18c2db2d00538cf7ff078256c91737b482a908b73eb2e42b28c9e4dea456d"
   }
  }
 },
 "nbformat": 4,
 "nbformat_minor": 2
}
